{
 "cells": [
  {
   "cell_type": "code",
   "execution_count": 1,
   "id": "a4da6aa3-66bf-417d-9ba6-5bfba7f398fe",
   "metadata": {},
   "outputs": [],
   "source": [
    "import numpy as np\n",
    "import cmath\n",
    "import matplotlib.pyplot as plt\n",
    "from scipy.signal import find_peaks as fp\n",
    "from mpmath import ellipk,log\n",
    "from scipy.special import gamma as GAMMA\n",
    "import os \n",
    "#from mpl_toolkits import mplot3d\n",
    "from scipy.optimize import fmin_cg, fmin_tnc, curve_fit, newton, bisect, fsolve\n",
    "from SourcesTBG import *\n",
    "from MoreSources import *\n",
    "from scipy.misc import derivative as scider\n",
    "import pandas as pd\n",
    "from scipy.linalg import eigh,eig,eigvalsh\n",
    "from functools import partial\n",
    "import seaborn as sns\n",
    "from FeynmanHellman import *\n",
    "from saddlefinder import *\n",
    "import csv\n",
    "from Decorators import *\n",
    "from YuanDos import *\n",
    "from DosHelper import*\n",
    "TO_DEGREE = 1.0/0.018326\n",
    "IN_RADIAN = np.pi/180\n",
    "vFpar = 4.31074647887324\n",
    "wpar=0.11\n",
    "BANDS = 8"
   ]
  },
  {
   "cell_type": "code",
   "execution_count": 2,
   "id": "f9f0617d-d815-4af8-b817-a69aa142619e",
   "metadata": {},
   "outputs": [],
   "source": [
    "thetaset = np.load('thetaset.npy')\n",
    "saddleset = np.load('saddleset.npy')\n",
    "rotangs = np.load('rotangs.npy')\n",
    "alphabeta = np.load('alphabeta.npy') #Note the need to multiply 0.5 to the values in the loaded alphabeta\n",
    "Evs = np.load('Evs.npy')\n",
    "gamma, kappa = np.load('gammakappa.npy') #No need to multiply any combinatorial factors here\n",
    "BWset = np.load('BWset.npy')"
   ]
  },
  {
   "cell_type": "code",
   "execution_count": 11,
   "id": "c1003ddf-7d64-44ad-871c-ce36d54f4498",
   "metadata": {},
   "outputs": [
    {
     "data": {
      "image/png": "[encoded data removed]",
      "text/plain": [
       "<Figure size 432x288 with 2 Axes>"
      ]
     },
     "metadata": {
      "needs_background": "light"
     },
     "output_type": "display_data"
    }
   ],
   "source": [
    "alpha,beta = 0.5*alphabeta.T\n",
    "detH = alpha*beta\n",
    "\n",
    "fig, (ax1, ax2) = plt.subplots(nrows=2, sharex=True)\n",
    "fig.subplots_adjust(hspace=0)\n",
    "# fig=plt.figure()\n",
    "# ax1 = plt.subplot(211)\n",
    "# ax2 = plt.subplot(212)\n",
    "ax1.plot(thetaset,Evs,'o-')\n",
    "ax2.plot(thetaset,detH,'o-',color='C1')\n",
    "ax1.set_ylim(0,0.004)\n",
    "ax2.set_ylim(-650,-0.01)\n",
    "ax1.set_ylabel(r'$E_v$',color = 'C0')\n",
    "ax2.set_ylabel('Det [Hessian]',color = 'C1')\n",
    "ax1.axvline(1.05,ls='--',c='gray')\n",
    "ax2.axvline(1.05,ls='--',c='gray')\n",
    "ax2.set_xlabel(r'$\\theta$ in degrees')\n",
    "plt.savefig('FigsPaper/ShowHigherOrder.pdf')\n",
    "#ax1.set_xticklabels([])"
   ]
  },
  {
   "cell_type": "code",
   "execution_count": 4,
   "id": "f4a9f477-bd24-4e36-8ebb-04ebcae19553",
   "metadata": {},
   "outputs": [
    {
     "data": {
      "text/plain": [
       "array([[ 1.75956659e+02,  1.56467126e+02,  1.38331309e+02,\n",
       "         1.21933121e+02,  1.07886466e+02,  9.71561756e+01,\n",
       "         8.98725381e+01,  8.64832653e+01,  8.61631575e+01],\n",
       "       [-1.42599170e+01, -1.02631927e+01, -6.48074723e+00,\n",
       "        -3.18641765e+00, -8.32377779e-01, -3.29489450e-03,\n",
       "        -1.13657313e+00, -4.06450489e+00, -7.86968263e+00]])"
      ]
     },
     "execution_count": 4,
     "metadata": {},
     "output_type": "execute_result"
    }
   ],
   "source": [
    "alphabeta.T"
   ]
  },
  {
   "cell_type": "code",
   "execution_count": null,
   "id": "10986cd2-20a1-47e6-bd58-660801f2c38b",
   "metadata": {},
   "outputs": [],
   "source": []
  }
 ],
 "metadata": {
  "kernelspec": {
   "display_name": "Python 3 (ipykernel)",
   "language": "python",
   "name": "python3"
  },
  "language_info": {
   "codemirror_mode": {
    "name": "ipython",
    "version": 3
   },
   "file_extension": ".py",
   "mimetype": "text/x-python",
   "name": "python",
   "nbconvert_exporter": "python",
   "pygments_lexer": "ipython3",
   "version": "3.9.7"
  }
 },
 "nbformat": 4,
 "nbformat_minor": 5
}
