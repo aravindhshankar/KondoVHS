{
 "cells": [
  {
   "cell_type": "code",
   "execution_count": 1,
   "id": "6d0dc896-8882-4306-9027-5cd87b410776",
   "metadata": {},
   "outputs": [],
   "source": [
    "import numpy as np\n",
    "import cmath\n",
    "import matplotlib.pyplot as plt\n",
    "from scipy.signal import find_peaks as fp\n",
    "from mpmath import ellipk,log\n",
    "from scipy.special import gamma as GAMMA\n",
    "from scipy.special import expit\n",
    "import os \n",
    "#from mpl_toolkits import mplot3d\n",
    "from scipy.optimize import fmin_cg, fmin_tnc, curve_fit, newton, bisect, fsolve\n",
    "from SourcesTBG import *\n",
    "from MoreSources import *\n",
    "from scipy.misc import derivative as scider\n",
    "import pandas as pd\n",
    "from scipy.linalg import eigh,eig,eigvalsh\n",
    "from functools import partial\n",
    "import seaborn as sns\n",
    "from FeynmanHellman import *\n",
    "from saddlefinder import *\n",
    "import csv\n",
    "from Decorators import *\n",
    "from YuanDos import *\n",
    "from DosHelper import *\n",
    "TO_DEGREE = 1.0/0.018326\n",
    "IN_RADIAN = np.pi/180\n",
    "vFpar = 4.31074647887324\n",
    "wpar=0.11\n",
    "BANDS = 8"
   ]
  },
  {
   "cell_type": "code",
   "execution_count": 2,
   "id": "5090756e-90bf-4d8b-8f13-fc2f23672e8e",
   "metadata": {},
   "outputs": [
    {
     "name": "stdout",
     "output_type": "stream",
     "text": [
      "verbose_string is  (array([0.02219556, 0.03907102]), 63, 2)\n",
      "0.04276117650113031\n"
     ]
    }
   ],
   "source": [
    "thetai = 1.79\n",
    "funcreturned = ret_alpha_beta_Ev(thetai)\n",
    "alpha, beta = funcreturned[0]  #Note NO NEED to multiply 0.5 to the values in the returned alphabeta\n",
    "Ev = funcreturned[1]\n",
    "thetarad = thetai * IN_RADIAN\n",
    "\n",
    "verbose_string = funcreturned[2]\n",
    "print(\"verbose_string is \", verbose_string)\n",
    "\n",
    "BW = 3.0 #consider a rough estimate of the bandwidth to be 3eV\n",
    "Eset = BW*np.logspace(-12,0,13*10000)\n",
    "print(Ev)"
   ]
  },
  {
   "cell_type": "markdown",
   "id": "26194e7f-c031-4312-8e5b-a85e0be92f82",
   "metadata": {},
   "source": [
    "### DoS \n",
    "#### The cone dos is $A x$, and the vhs dos is $P \\log\\left|\\frac{B-E_v}{x-E_v}\\right|$. They meet at the solution $x = E_*$ . \n",
    "The Dos then is \n",
    "$\\left[\\Theta(E) - \\Theta(E - E_*)\\right] A E + \\Theta(E-E_*) P \\log\\left|\\frac{B-E_v}{E-E_v}\\right|$ "
   ]
  },
  {
   "cell_type": "code",
   "execution_count": 22,
   "id": "b8b52ac7-e7de-4952-82d8-e376c6e1cb3c",
   "metadata": {},
   "outputs": [
    {
     "name": "stdout",
     "output_type": "stream",
     "text": [
      "Estar =  0.03420894120090425\n",
      "Ev =  0.04276117650113031\n",
      "DOS at zero energy:  1.2524988083359754e-11\n",
      "Smoothing parameter is  350.08564656299694\n"
     ]
    },
    {
     "data": {
      "image/png": "[encoded data removed]",
      "text/plain": [
       "<Figure size 432x288 with 1 Axes>"
      ]
     },
     "metadata": {
      "needs_background": "light"
     },
     "output_type": "display_data"
    }
   ],
   "source": [
    "A = DiracConeDoS_TBLG(1, thetarad)\n",
    "P = (12/(4*np.pi**2)) * (1/(np.sqrt(np.abs(alpha*beta))))\n",
    "\n",
    "eps = 1e-2\n",
    "def forbisection(x,A,P,BW,Ev):\n",
    "    return A*x/P - (np.log(np.abs((BW-Ev)/(x-Ev))))\n",
    "\n",
    "#Estar = bisect(forbisection,0+eps,Ev-eps,args=(A,P,BW,Ev))\n",
    "Estar = newton(forbisection,0,args=(A,P,BW,Ev))\n",
    "Estar = 0.8*Ev\n",
    "print(\"Estar = \",Estar)\n",
    "#DoS = np.array([(np.heaviside(mu,0) - np.heaviside(mu-Estar,0)) * A * np.abs(mu) + \n",
    "#       np.heaviside(mu - Estar,0) * P * np.log(np.abs((BW-Ev)/(mu-Ev))) for mu in Eset])\n",
    "\n",
    "s = 50/(A * Estar)\n",
    "#DoS = np.array([(expit((mu)*s) - expit((mu-Estar)*s)) * A * np.abs(mu) + \n",
    "#       expit((mu - Estar)*s) * P * np.log(np.abs((BW-Ev)/(mu-Ev))) for mu in Eset])\n",
    "\n",
    "N=2\n",
    "DoS = np.array([(1 - smoothstep(mu,0.999*Estar,1.001*Estar,N)) * A * np.abs(mu) + \n",
    "       smoothstep(mu,0.9*Estar,1.1*Estar,N) * P * np.log(np.abs((BW-Ev)/(mu-Ev))) for mu in Eset])\n",
    "#startindex = 108000\n",
    "#stopindex = 112000\n",
    "#startindex = 0\n",
    "#stopindex= 140000\n",
    "startindex, stopindex = [81000,112000]\n",
    "plt.plot(Eset[startindex:stopindex],DoS[startindex:stopindex])\n",
    "print(\"Ev = \", Ev)\n",
    "print(\"DOS at zero energy: \", DoS[0])\n",
    "print(\"Smoothing parameter is \", s)"
   ]
  },
  {
   "cell_type": "markdown",
   "id": "c4ba79ba-7bd9-4209-afe8-b71d8b007ab9",
   "metadata": {},
   "source": [
    "### Condition for root: Cone(Ev) > vhs(0)"
   ]
  },
  {
   "cell_type": "code",
   "execution_count": 4,
   "id": "575793de-3e49-4e16-8625-abafd6d3737b",
   "metadata": {},
   "outputs": [
    {
     "data": {
      "text/plain": [
       "0.13863227950674425"
      ]
     },
     "execution_count": 4,
     "metadata": {},
     "output_type": "execute_result"
    }
   ],
   "source": [
    "coneEv = A * np.abs(Ev)\n",
    "vhSzero = P * np.log(np.abs((BW-Ev)/(0-Ev)))\n",
    "coneEv - vhSzero"
   ]
  },
  {
   "cell_type": "markdown",
   "id": "52baf52c-e275-493b-ac8d-be1776285564",
   "metadata": {},
   "source": [
    "### Compare slopes at $E_*$"
   ]
  },
  {
   "cell_type": "code",
   "execution_count": 5,
   "id": "07db2c5c-6857-4ab5-a7e1-490b879492c4",
   "metadata": {},
   "outputs": [
    {
     "name": "stdout",
     "output_type": "stream",
     "text": [
      "[4.174996027786585, 0.37235953997734067]\n"
     ]
    }
   ],
   "source": [
    "def slope_line(x):\n",
    "    return A\n",
    "def slope_log(x) :\n",
    "    return P * ((Ev-x)/(BW-Ev)) * (1/(Ev-x)**2)\n",
    "print([slope_line(Estar), slope_log(Estar)])\n",
    "#eqslop = bisect(lambda x: slope_line(x)-slope_log(x), 0, Ev-eps)\n",
    "#slope_log(eqslop+10*eps)\n",
    "\n",
    "#Estar1 = bisect(forbisection,eqslop,Ev-eps,args=(A,P,BW,Ev))\n"
   ]
  },
  {
   "cell_type": "code",
   "execution_count": 6,
   "id": "fb6d747b-235b-4b1e-9e3b-ab6e4d5822a1",
   "metadata": {},
   "outputs": [
    {
     "data": {
      "text/plain": [
       "<AxesSubplot:ylabel='Density'>"
      ]
     },
     "execution_count": 6,
     "metadata": {},
     "output_type": "execute_result"
    },
    {
     "data": {
      "image/png": "[encoded data removed]",
      "text/plain": [
       "<Figure size 432x288 with 1 Axes>"
      ]
     },
     "metadata": {
      "needs_background": "light"
     },
     "output_type": "display_data"
    }
   ],
   "source": [
    "X,Y,Z = data_for_contours(thetai)\n",
    "ser = pd.Series(Z.flatten())\n",
    "sns.kdeplot(ser,bw_adjust=0.01)"
   ]
  },
  {
   "cell_type": "code",
   "execution_count": 7,
   "id": "e0f23d8a-0b89-40c2-87f1-a924bce88d50",
   "metadata": {},
   "outputs": [
    {
     "data": {
      "text/plain": [
       "[<matplotlib.lines.Line2D at 0x25252229100>]"
      ]
     },
     "execution_count": 7,
     "metadata": {},
     "output_type": "execute_result"
    },
    {
     "data": {
      "image/png": "[encoded data removed]",
      "text/plain": [
       "<Figure size 432x288 with 1 Axes>"
      ]
     },
     "metadata": {
      "needs_background": "light"
     },
     "output_type": "display_data"
    }
   ],
   "source": [
    "plt.plot(Eset, -np.log(Eset/3))"
   ]
  },
  {
   "cell_type": "code",
   "execution_count": 20,
   "id": "7f0642f5-a999-4f32-8f26-af7b326922fa",
   "metadata": {},
   "outputs": [
    {
     "data": {
      "text/plain": [
       "[<matplotlib.lines.Line2D at 0x25254e16eb0>]"
      ]
     },
     "execution_count": 20,
     "metadata": {},
     "output_type": "execute_result"
    },
    {
     "data": {
      "image/png": "[encoded data removed]",
      "text/plain": [
       "<Figure size 432x288 with 1 Axes>"
      ]
     },
     "metadata": {
      "needs_background": "light"
     },
     "output_type": "display_data"
    }
   ],
   "source": [
    "x = np.linspace(0,10,100)\n",
    "\n",
    "eps = 0.1\n",
    "y = smoothstep(x,x_min=3,x_max=4,N=2) * x**2 \n",
    "#plt.plot(x,y)\n",
    "plt.plot(x, np.heaviside(x-3,0))\n",
    "plt.plot(x, smoothstep(x, 3-eps,3+eps, N=3))"
   ]
  },
  {
   "cell_type": "code",
   "execution_count": null,
   "id": "c1cd0f44-5524-4128-a7dd-4694289c1af0",
   "metadata": {},
   "outputs": [],
   "source": []
  }
 ],
 "metadata": {
  "kernelspec": {
   "display_name": "Python 3 (ipykernel)",
   "language": "python",
   "name": "python3"
  },
  "language_info": {
   "codemirror_mode": {
    "name": "ipython",
    "version": 3
   },
   "file_extension": ".py",
   "mimetype": "text/x-python",
   "name": "python",
   "nbconvert_exporter": "python",
   "pygments_lexer": "ipython3",
   "version": "3.9.7"
  }
 },
 "nbformat": 4,
 "nbformat_minor": 5
}
