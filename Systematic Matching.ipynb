{
 "cells": [
  {
   "cell_type": "code",
   "execution_count": 1,
   "id": "6d0dc896-8882-4306-9027-5cd87b410776",
   "metadata": {},
   "outputs": [],
   "source": [
    "import numpy as np\n",
    "import cmath\n",
    "import matplotlib.pyplot as plt\n",
    "from scipy.signal import find_peaks as fp\n",
    "from mpmath import ellipk,log\n",
    "from scipy.special import gamma as GAMMA\n",
    "from scipy.special import expit\n",
    "import os \n",
    "#from mpl_toolkits import mplot3d\n",
    "from scipy.optimize import fmin_cg, fmin_tnc, curve_fit, newton, bisect, fsolve\n",
    "from SourcesTBG import *\n",
    "from MoreSources import *\n",
    "from scipy.misc import derivative as scider\n",
    "import pandas as pd\n",
    "from scipy.linalg import eigh,eig,eigvalsh\n",
    "from functools import partial\n",
    "import seaborn as sns\n",
    "from FeynmanHellman import *\n",
    "from saddlefinder import *\n",
    "import csv\n",
    "from Decorators import *\n",
    "from YuanDos import *\n",
    "from DosHelper import *\n",
    "TO_DEGREE = 1.0/0.018326\n",
    "IN_RADIAN = np.pi/180\n",
    "vFpar = 4.31074647887324\n",
    "wpar=0.11\n",
    "BANDS = 8"
   ]
  },
  {
   "cell_type": "code",
   "execution_count": 2,
   "id": "5090756e-90bf-4d8b-8f13-fc2f23672e8e",
   "metadata": {},
   "outputs": [
    {
     "name": "stdout",
     "output_type": "stream",
     "text": [
      "verbose_string is  (array([0.02371266, 0.03671387]), 222, 4)\n",
      "0.0038836617935514403\n"
     ]
    }
   ],
   "source": [
    "thetai = 0.8\n",
    "funcreturned = ret_alpha_beta_Ev(thetai)\n",
    "alpha, beta = funcreturned[0]  #Note NO NEED to multiply 0.5 to the values in the returned alphabeta\n",
    "Ev = funcreturned[1]\n",
    "thetarad = thetai * IN_RADIAN\n",
    "\n",
    "verbose_string = funcreturned[2]\n",
    "print(\"verbose_string is \", verbose_string)\n",
    "\n",
    "BW = 3.0 #consider a rough estimate of the bandwidth to be 3eV\n",
    "Eset = BW*np.logspace(-12,0,13*10000)\n",
    "print(Ev)"
   ]
  },
  {
   "cell_type": "markdown",
   "id": "26194e7f-c031-4312-8e5b-a85e0be92f82",
   "metadata": {},
   "source": [
    "### DoS \n",
    "#### The cone dos is $A x$, and the vhs dos is $P \\log\\left|\\frac{B-E_v}{x-E_v}\\right|$. They meet at the solution $x = E_*$ . \n",
    "The Dos then is \n",
    "$\\left[\\Theta(E) - \\Theta(E - E_*)\\right] A E + \\Theta(E-E_*) P \\log\\left|\\frac{B-E_v}{E-E_v}\\right|$ "
   ]
  },
  {
   "cell_type": "code",
   "execution_count": 12,
   "id": "b8b52ac7-e7de-4952-82d8-e376c6e1cb3c",
   "metadata": {},
   "outputs": [
    {
     "name": "stdout",
     "output_type": "stream",
     "text": [
      "Estar =  0.0031069294348411523\n",
      "Ev =  0.0038836617935514403\n",
      "DOS at zero energy:  4.950874396509666e-09\n",
      "DOS at the Band edge is  0.0\n"
     ]
    },
    {
     "data": {
      "text/plain": [
       "(0.0, 0.1)"
      ]
     },
     "execution_count": 12,
     "metadata": {},
     "output_type": "execute_result"
    },
    {
     "data": {
      "image/png": "[encoded data removed]",
      "text/plain": [
       "<Figure size 432x288 with 1 Axes>"
      ]
     },
     "metadata": {
      "needs_background": "light"
     },
     "output_type": "display_data"
    },
    {
     "data": {
      "image/png": "[encoded data removed]",
      "text/plain": [
       "<Figure size 432x288 with 1 Axes>"
      ]
     },
     "metadata": {
      "needs_background": "light"
     },
     "output_type": "display_data"
    }
   ],
   "source": [
    "A = DiracConeDoS_TBLG(1, thetarad)\n",
    "P = (12/(4*np.pi**2)) * (1/(np.sqrt(np.abs(alpha*beta))))\n",
    "\n",
    "eps = 1e-2\n",
    "def forbisection(x,A,P,BW,Ev):\n",
    "    return A*x/P - (np.log(np.abs((BW-Ev)/(x-Ev))))\n",
    "\n",
    "#Estar = bisect(forbisection,0+eps,Ev-eps,args=(A,P,BW,Ev))\n",
    "#Estar = newton(forbisection,0,args=(A,P,BW,Ev))\n",
    "Estar = 0.8*Ev\n",
    "print(\"Estar = \",Estar)\n",
    "\n",
    "\n",
    "#s = 50/(A * Estar)\n",
    "\n",
    "\n",
    "\n",
    "DoS = np.array([np.exp(-mu/Estar) * A * np.abs(mu) + (1-np.exp(-mu/Estar)) * P *  np.log(np.abs((BW-Ev)/(mu-Ev))) for mu in Eset])\n",
    "\n",
    "#startindex, stopindex = [100000,115000]\n",
    "startindex, stopindex = [0,-1]\n",
    "plt.plot(Eset[startindex:stopindex],DoS[startindex:stopindex])\n",
    "print(\"Ev = \", Ev)\n",
    "print(\"DOS at zero energy: \", DoS[0])\n",
    "\n",
    "print(\"DOS at the Band edge is \", DoS[-1])\n",
    "plt.ylim(0,1)\n",
    "plt.xlim(0,3)\n",
    "fig,ax = plt.subplots()\n",
    "ax.plot(Eset[startindex:stopindex],np.gradient(DoS)[startindex:stopindex])\n",
    "ax.set_xlim(0,Ev+0.01)\n",
    "ax.set_ylim(0,0.1)\n"
   ]
  },
  {
   "cell_type": "markdown",
   "id": "c4ba79ba-7bd9-4209-afe8-b71d8b007ab9",
   "metadata": {},
   "source": [
    "### Condition for root: Cone(Ev) > vhs(0)"
   ]
  },
  {
   "cell_type": "code",
   "execution_count": 4,
   "id": "575793de-3e49-4e16-8625-abafd6d3737b",
   "metadata": {},
   "outputs": [],
   "source": [
    "#coneEv = A * np.abs(Ev)\n",
    "#vhSzero = P * np.log(np.abs((BW-Ev)/(0-Ev)))\n",
    "#coneEv - vhSzero"
   ]
  },
  {
   "cell_type": "markdown",
   "id": "52baf52c-e275-493b-ac8d-be1776285564",
   "metadata": {},
   "source": [
    "### Compare slopes at $E_*$"
   ]
  },
  {
   "cell_type": "code",
   "execution_count": 5,
   "id": "fb6d747b-235b-4b1e-9e3b-ab6e4d5822a1",
   "metadata": {},
   "outputs": [],
   "source": [
    "#X,Y,Z = data_for_contours(1.05)\n",
    "#ser = pd.Series(Z.flatten())\n",
    "#sns.kdeplot(ser,bw_adjust=0.01,clip=(0,0.001))"
   ]
  },
  {
   "cell_type": "code",
   "execution_count": 6,
   "id": "5ce26fd9-16b7-4c35-9740-537f85793ac9",
   "metadata": {},
   "outputs": [],
   "source": [
    "#X,Y,Z = data_for_contours(1.79)\n",
    "#ser = pd.Series(Z.flatten())\n",
    "#sns.kdeplot(ser,bw_adjust=0.01,clip=(0,0.050))"
   ]
  },
  {
   "cell_type": "code",
   "execution_count": 7,
   "id": "c1cd0f44-5524-4128-a7dd-4694289c1af0",
   "metadata": {},
   "outputs": [
    {
     "name": "stdout",
     "output_type": "stream",
     "text": [
      "48.578087800140665 -1100.5594879665343 6227.899571591622\n",
      "1073.3777562151663\n"
     ]
    },
    {
     "data": {
      "image/png": "[encoded data removed]",
      "text/plain": [
       "<Figure size 432x288 with 1 Axes>"
      ]
     },
     "metadata": {
      "needs_background": "light"
     },
     "output_type": "display_data"
    }
   ],
   "source": [
    "coefflist = [0.005]\n",
    "gamma,kappa = np.load('gammakappa.npy')\n",
    "alpha, beta = np.load('alphabeta.npy')[5]\n",
    "alpha = 0.5*alpha\n",
    "Gammatwidsquare = gamma**2 - 4*alpha*kappa \n",
    "pref = ((2*np.pi)**(-2.5)) * (GAMMA(0.25)**2) \n",
    "denom = (4.0*alpha*Gammatwidsquare)**0.25\n",
    "\n",
    "for coeff in coefflist:\n",
    "    plt.plot(Eset, coeff * np.log(BW/Eset))\n",
    "plt.xlim(0,3)\n",
    "plt.ylim(0,0.1)\n",
    "#plt.plot(Eset, 1 * Eset**(-0.25))\n",
    "plt.plot(Eset, (pref/denom) * Eset**(-0.25) )\n",
    "print(alpha, gamma,kappa)\n",
    "print(Gammatwidsquare)"
   ]
  },
  {
   "cell_type": "code",
   "execution_count": 8,
   "id": "017b08f0-5a9d-4eff-b313-64767b01d55b",
   "metadata": {},
   "outputs": [
    {
     "name": "stdout",
     "output_type": "stream",
     "text": [
      "0.052389584167551954\n"
     ]
    },
    {
     "data": {
      "text/plain": [
       "(0.0, 1.0)"
      ]
     },
     "execution_count": 8,
     "metadata": {},
     "output_type": "execute_result"
    },
    {
     "data": {
      "image/png": "[encoded data removed]",
      "text/plain": [
       "<Figure size 432x288 with 1 Axes>"
      ]
     },
     "metadata": {
      "needs_background": "light"
     },
     "output_type": "display_data"
    }
   ],
   "source": [
    "C = 12*pref/denom \n",
    "mtch = 0.001\n",
    "G = (C*(mtch**-0.25))/(np.log(BW/mtch))\n",
    "MagicDos = (np.exp(-Eset/mtch) * C * Eset**(-0.25)) + (1-np.exp(-Eset/mtch))*G*np.log(BW/Eset)\n",
    "plt.plot(Eset,MagicDos)\n",
    "print(G)\n",
    "plt.ylim(0,1)\n"
   ]
  },
  {
   "cell_type": "markdown",
   "id": "3744d7be-9e21-46ad-8e6d-af9e3aefa7a7",
   "metadata": {},
   "source": [
    "# PROD"
   ]
  },
  {
   "cell_type": "code",
   "execution_count": 2,
   "id": "44fbe69b-e8da-4bbb-996c-eca01af34013",
   "metadata": {},
   "outputs": [],
   "source": [
    "BASE_PATH = \"C:/Users/Aravi/OneDrive/Documents/DoS_Pass2/\"\n",
    "if not os.path.exists(BASE_PATH):\n",
    "     raise(Exception(\"CHECK THE BASE PATH\"))\n",
    "\n",
    "BW = 3.0 #consider a rough estimate of the bandwidth to be 3eV\n",
    "Eset = BW*np.logspace(-12,0,13*10000)\n",
    "thetaiset = [0.8,0.85,0.9,0.95,1.0,1.1,1.15,1.2,1.25,1.4,1.5,1.6,1.8,2.0]\n",
    "TOWRITE_X = np.concatenate((-np.flip(Eset),Eset))\n",
    "for ival, thetai in enumerate(thetaiset):\n",
    "    funcreturned = ret_alpha_beta_Ev(thetai)\n",
    "    alpha, beta = funcreturned[0]  #Note NO NEED to multiply 0.5 to the values in the returned alphabeta\n",
    "    Ev = funcreturned[1]\n",
    "    thetarad = thetai * IN_RADIAN\n",
    "    A = DiracConeDoS_TBLG(1, thetarad)\n",
    "    P = (12/(4*np.pi**2)) * (1/(np.sqrt(np.abs(alpha*beta))))\n",
    "    Estar = 0.8*Ev\n",
    "    DoS = np.array([np.exp(-mu/Estar) * A * np.abs(mu) + (1-np.exp(-mu/Estar)) * P *  np.log(np.abs((BW-Ev)/(mu-Ev))) for mu in Eset])\n",
    "    TOWRITE_Y = np.concatenate((np.flip(DoS),DoS))\n",
    "    filename = os.path.join(BASE_PATH,str(ival)+'.csv')\n",
    "    pathlogfile = os.path.join(BASE_PATH,str(ival)+'log.txt')\n",
    "    with open(filename, 'w', newline='') as f:\n",
    "        writer = csv.writer(f)\n",
    "        writer.writerows(zip(TOWRITE_X,TOWRITE_Y))\n",
    "    with open(pathlogfile,'w', newline = '') as f:\n",
    "        f.write(str((int(thetai*100)/100,Ev)))"
   ]
  },
  {
   "cell_type": "markdown",
   "id": "294e025d-c103-4183-a35b-03c3e9fafa49",
   "metadata": {},
   "source": [
    "## Make sure to clear the Kernel before the next step"
   ]
  },
  {
   "cell_type": "code",
   "execution_count": 3,
   "id": "d968256d-2a93-4b80-8b5f-e3722e626413",
   "metadata": {},
   "outputs": [],
   "source": [
    "BASE_PATH = \"C:/Users/Aravi/OneDrive/Documents/DoS_Pass2/\"\n",
    "if not os.path.exists(BASE_PATH):\n",
    "     raise(Exception(\"CHECK THE BASE PATH\"))\n",
    "\n",
    "BW = 3.0 #consider a rough estimate of the bandwidth to be 3eV\n",
    "Eset = BW*np.logspace(-12,0,13*10000)\n",
    "thetai = 1.05\n",
    "\n",
    "\n",
    "gamma,kappa = np.load('gammakappa.npy')\n",
    "alpha, beta = np.load('alphabeta.npy')[5]\n",
    "alpha = 0.5*alpha\n",
    "Gammatwidsquare = gamma**2 - 4*alpha*kappa \n",
    "pref = ((2*np.pi)**(-2.5)) * (GAMMA(0.25)**2) \n",
    "denom = (4.0*alpha*Gammatwidsquare)**0.25\n",
    "C = 12*pref/denom \n",
    "mtch = 0.001\n",
    "G = (C*(mtch**-0.25))/(np.log(BW/mtch))\n",
    "MagicDos = (np.exp(-Eset/mtch) * C * Eset**(-0.25)) + (1-np.exp(-Eset/mtch))*G*np.log(BW/Eset)\n",
    "\n",
    "TOWRITE_X = np.concatenate((-np.flip(Eset),Eset))\n",
    "TOWRITE_Y = np.concatenate((np.flip(MagicDos),MagicDos))\n",
    "\n",
    "filename = os.path.join(BASE_PATH,'MAGIC'+'.csv')\n",
    "pathlogfile = os.path.join(BASE_PATH,'MAGIC'+'log.txt')\n",
    "with open(filename, 'w', newline='') as f:\n",
    "    writer = csv.writer(f)\n",
    "    writer.writerows(zip(TOWRITE_X,TOWRITE_Y))\n",
    "with open(pathlogfile,'w', newline = '') as f:\n",
    "    f.write(str((1.05,0)))"
   ]
  },
  {
   "cell_type": "code",
   "execution_count": null,
   "id": "d06fd08c-bf9f-4a20-a3e3-892c0583b305",
   "metadata": {},
   "outputs": [],
   "source": []
  }
 ],
 "metadata": {
  "kernelspec": {
   "display_name": "Python 3 (ipykernel)",
   "language": "python",
   "name": "python3"
  },
  "language_info": {
   "codemirror_mode": {
    "name": "ipython",
    "version": 3
   },
   "file_extension": ".py",
   "mimetype": "text/x-python",
   "name": "python",
   "nbconvert_exporter": "python",
   "pygments_lexer": "ipython3",
   "version": "3.9.7"
  }
 },
 "nbformat": 4,
 "nbformat_minor": 5
}
