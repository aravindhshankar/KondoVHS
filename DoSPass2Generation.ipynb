{
 "cells": [
  {
   "cell_type": "code",
   "execution_count": 1,
   "metadata": {},
   "outputs": [],
   "source": [
    "import numpy as np\n",
    "import cmath\n",
    "import matplotlib.pyplot as plt\n",
    "from scipy.signal import find_peaks as fp\n",
    "from mpmath import ellipk,log\n",
    "from scipy.special import gamma as GAMMA\n",
    "from scipy.special import expit\n",
    "import os \n",
    "#from mpl_toolkits import mplot3d\n",
    "from scipy.optimize import fmin_cg, fmin_tnc, curve_fit, newton, bisect, fsolve\n",
    "from SourcesTBG import *\n",
    "from MoreSources import *\n",
    "from scipy.misc import derivative as scider\n",
    "import pandas as pd\n",
    "from scipy.linalg import eigh,eig,eigvalsh\n",
    "from functools import partial\n",
    "import seaborn as sns\n",
    "from FeynmanHellman import *\n",
    "from saddlefinder import *\n",
    "import csv\n",
    "from Decorators import *\n",
    "from YuanDos import *\n",
    "from DosHelper import *\n",
    "TO_DEGREE = 1.0/0.018326\n",
    "IN_RADIAN = np.pi/180\n",
    "vFpar = 4.31074647887324\n",
    "wpar=0.11\n",
    "BANDS = 8"
   ]
  },
  {
   "cell_type": "markdown",
   "metadata": {},
   "source": [
    "# Explanation: This next cell makes the DoS at all angles away from the magic angle by stitching artificially the cone DoS and the Log DoS. \n",
    "\n",
    "#### The cone dos is $A E$, and the vhs dos is $P \\log\\left|\\frac{B-E_v}{E-E_v}\\right|$. The matching scale is $E = E_*$, which has been arbitrarily chosen as $0.8 E_v$.  \n",
    "#### With $x = e^{-\\frac{E}{E_*}}$, the DoS is stitched by:\n",
    "$\\left(x\\right) A E + \\left(1-x\\right) P \\log\\left|\\frac{B-E_v}{E-E_v}\\right|$ \n",
    "\n",
    "#### The version DoSpass1 used the smoothened step function, but this new version is found to be smoother by plotting the gradient. \n",
    "\n",
    "#### In the Log dos, the cutoff scale (BW-Ev) is chosen so that the logarithmic tail ends exactly at the band edge of 3eV. \n",
    "\n",
    "#### The numbers A(slope of the cone Dos) is an analytical relation as a function of twist angle, the number P is determined from the numbers alpha and beta away from the magic angle. These are returned by the function ret_alpha_beta for each twist angle. \n",
    "\n",
    "### Note: this is less accurate very close to the magic angle."
   ]
  },
  {
   "cell_type": "code",
   "execution_count": null,
   "metadata": {},
   "outputs": [],
   "source": [
    "BASE_PATH = \"C:/Users/Aravi/OneDrive/Documents/DoS_Pass2/\"\n",
    "if not os.path.exists(BASE_PATH):\n",
    "     raise(Exception(\"CHECK THE BASE PATH\"))\n",
    "\n",
    "BW = 3.0 #consider a rough estimate of the bandwidth to be 3eV\n",
    "Eset = BW*np.logspace(-12,0,13*10000)\n",
    "thetaiset = [0.8,0.85,0.9,0.95,1.0,1.1,1.15,1.2,1.25,1.4,1.5,1.6,1.8,2.0]\n",
    "TOWRITE_X = np.concatenate((-np.flip(Eset),Eset))\n",
    "for ival, thetai in enumerate(thetaiset):\n",
    "    funcreturned = ret_alpha_beta_Ev(thetai)\n",
    "    alpha, beta = funcreturned[0]  #Note NO NEED to multiply 0.5 to the values in the returned alphabeta\n",
    "    Ev = funcreturned[1]\n",
    "    thetarad = thetai * IN_RADIAN\n",
    "    A = DiracConeDoS_TBLG(1, thetarad)\n",
    "    P = (12/(4*np.pi**2)) * (1/(np.sqrt(np.abs(alpha*beta))))\n",
    "    Estar = 0.8*Ev\n",
    "    DoS = np.array([np.exp(-mu/Estar) * A * np.abs(mu) + (1-np.exp(-mu/Estar)) * P *  np.log(np.abs((BW-Ev)/(mu-Ev))) for mu in Eset])\n",
    "    TOWRITE_Y = np.concatenate((np.flip(DoS),DoS))\n",
    "    filename = os.path.join(BASE_PATH,str(ival)+'.csv')\n",
    "    pathlogfile = os.path.join(BASE_PATH,str(ival)+'log.txt')\n",
    "    with open(filename, 'w', newline='') as f:\n",
    "        writer = csv.writer(f)\n",
    "        writer.writerows(zip(TOWRITE_X,TOWRITE_Y))\n",
    "    with open(pathlogfile,'w', newline = '') as f:\n",
    "        f.write(str((int(thetai*100)/100,Ev)))"
   ]
  },
  {
   "cell_type": "markdown",
   "metadata": {},
   "source": [
    "### The magic angle case is handled separately. This is where beta becomes zero, and numerically $E_v$ becomes $10^{-7}$, which we assume is zero. The numbers $\\gamma $ and  $\\kappa$ are computed. These three numbers determine the numbers in the power law DoS. \n",
    "\n",
    "#### The ambiguity now is how to continue the tail. The Yuan dispersion is valid until an energy scale of about 1 meV. Then I've extended it to the band edge of 3eV by the logarithm which has the same DoS at mtch = 1meV "
   ]
  },
  {
   "cell_type": "code",
   "execution_count": null,
   "metadata": {},
   "outputs": [],
   "source": [
    "BASE_PATH = \"C:/Users/Aravi/OneDrive/Documents/DoS_Pass2/\"\n",
    "if not os.path.exists(BASE_PATH):\n",
    "     raise(Exception(\"CHECK THE BASE PATH\"))\n",
    "\n",
    "BW = 3.0 #consider a rough estimate of the bandwidth to be 3eV\n",
    "Eset = BW*np.logspace(-12,0,13*10000)\n",
    "thetai = 1.05\n",
    "\n",
    "\n",
    "gamma,kappa = np.load('gammakappa.npy')\n",
    "alpha, beta = np.load('alphabeta.npy')[5]\n",
    "alpha = 0.5*alpha\n",
    "Gammatwidsquare = gamma**2 - 4*alpha*kappa \n",
    "pref = ((2*np.pi)**(-2.5)) * (GAMMA(0.25)**2) \n",
    "denom = (4.0*alpha*Gammatwidsquare)**0.25\n",
    "C = 12*pref/denom \n",
    "mtch = 0.001\n",
    "G = (C*(mtch**-0.25))/(np.log(BW/mtch))\n",
    "MagicDos = (np.exp(-Eset/mtch) * C * Eset**(-0.25)) + (1-np.exp(-Eset/mtch))*G*np.log(BW/Eset)\n",
    "\n",
    "TOWRITE_X = np.concatenate((-np.flip(Eset),Eset))\n",
    "TOWRITE_Y = np.concatenate((np.flip(MagicDos),MagicDos))\n",
    "\n",
    "filename = os.path.join(BASE_PATH,'MAGIC'+'.csv')\n",
    "pathlogfile = os.path.join(BASE_PATH,'MAGIC'+'log.txt')\n",
    "with open(filename, 'w', newline='') as f:\n",
    "    writer = csv.writer(f)\n",
    "    writer.writerows(zip(TOWRITE_X,TOWRITE_Y))\n",
    "with open(pathlogfile,'w', newline = '') as f:\n",
    "    f.write(str((1.05,0)))"
   ]
  }
 ],
 "metadata": {
  "kernelspec": {
   "display_name": "Python 3",
   "language": "python",
   "name": "python3"
  },
  "language_info": {
   "codemirror_mode": {
    "name": "ipython",
    "version": 3
   },
   "file_extension": ".py",
   "mimetype": "text/x-python",
   "name": "python",
   "nbconvert_exporter": "python",
   "pygments_lexer": "ipython3",
   "version": "3.8.5"
  }
 },
 "nbformat": 4,
 "nbformat_minor": 4
}
