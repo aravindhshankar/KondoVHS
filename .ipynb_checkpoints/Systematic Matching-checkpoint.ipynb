{
 "cells": [
  {
   "cell_type": "code",
   "execution_count": 20,
   "id": "6d0dc896-8882-4306-9027-5cd87b410776",
   "metadata": {},
   "outputs": [],
   "source": [
    "import numpy as np\n",
    "import cmath\n",
    "import matplotlib.pyplot as plt\n",
    "from scipy.signal import find_peaks as fp\n",
    "from mpmath import ellipk,log\n",
    "from scipy.special import gamma as GAMMA\n",
    "from scipy.special import expit\n",
    "import os \n",
    "#from mpl_toolkits import mplot3d\n",
    "from scipy.optimize import fmin_cg, fmin_tnc, curve_fit, newton, bisect, fsolve\n",
    "from SourcesTBG import *\n",
    "from MoreSources import *\n",
    "from scipy.misc import derivative as scider\n",
    "import pandas as pd\n",
    "from scipy.linalg import eigh,eig,eigvalsh\n",
    "from functools import partial\n",
    "import seaborn as sns\n",
    "from FeynmanHellman import *\n",
    "from saddlefinder import *\n",
    "import csv\n",
    "from Decorators import *\n",
    "from YuanDos import *\n",
    "from DosHelper import *\n",
    "TO_DEGREE = 1.0/0.018326\n",
    "IN_RADIAN = np.pi/180\n",
    "vFpar = 4.31074647887324\n",
    "wpar=0.11\n",
    "BANDS = 8"
   ]
  },
  {
   "cell_type": "code",
   "execution_count": 94,
   "id": "5090756e-90bf-4d8b-8f13-fc2f23672e8e",
   "metadata": {},
   "outputs": [
    {
     "name": "stdout",
     "output_type": "stream",
     "text": [
      "verbose_string is  (array([0.02219556, 0.03907102]), 63, 2)\n",
      "0.04276117650113031\n"
     ]
    }
   ],
   "source": [
    "thetai = 1.79\n",
    "funcreturned = ret_alpha_beta_Ev(thetai)\n",
    "alpha, beta = funcreturned[0]  #Note NO NEED to multiply 0.5 to the values in the returned alphabeta\n",
    "Ev = funcreturned[1]\n",
    "thetarad = thetai * IN_RADIAN\n",
    "\n",
    "verbose_string = funcreturned[2]\n",
    "print(\"verbose_string is \", verbose_string)\n",
    "\n",
    "BW = 3.0 #consider a rough estimate of the bandwidth to be 3eV\n",
    "Eset = BW*np.logspace(-12,0,13*10000)\n",
    "print(Ev)"
   ]
  },
  {
   "cell_type": "markdown",
   "id": "26194e7f-c031-4312-8e5b-a85e0be92f82",
   "metadata": {},
   "source": [
    "### DoS \n",
    "#### The cone dos is $A x$, and the vhs dos is $P \\log\\left|\\frac{B-Ev}{x-Ev}\\right|$. They meet at the solution $x = E_*$ . \n",
    "The Dos then is \n",
    "$\\left[\\Theta(E) - \\Theta(E - E_*)\\right] A E + \\Theta(E-E_*) P \\log\\left|\\frac{B-Ev}{E-Ev}\\right|$ "
   ]
  },
  {
   "cell_type": "code",
   "execution_count": 111,
   "id": "b8b52ac7-e7de-4952-82d8-e376c6e1cb3c",
   "metadata": {},
   "outputs": [
    {
     "name": "stdout",
     "output_type": "stream",
     "text": [
      "Estar =  0.010168301765376203\n",
      "Ev =  0.04276117650113031\n",
      "DOS at zero energy:  7.84247035747463e-12\n",
      "Smoothing parameter is  2355.5672470959607\n"
     ]
    },
    {
     "data": {
      "image/png": "[encoded data removed]",
      "text/plain": [
       "<Figure size 432x288 with 1 Axes>"
      ]
     },
     "metadata": {
      "needs_background": "light"
     },
     "output_type": "display_data"
    }
   ],
   "source": [
    "A = DiracConeDoS_TBLG(1, thetarad)\n",
    "P = (12/(4*np.pi**2)) * (1/(np.sqrt(np.abs(alpha*beta))))\n",
    "\n",
    "eps = 1e-6\n",
    "def forbisection(x,A,P,BW,Ev):\n",
    "    return A*x/P - (np.log(np.abs((BW-Ev)/(x-Ev))))\n",
    "\n",
    "Estar = bisect(forbisection,0+eps,Ev-eps,args=(A,P,BW,Ev))\n",
    "#Estar1 = bisect(forbisection,Estar+eps,Ev-eps,args=(A,P,BW,Ev))\n",
    "#Estar = Estar1\n",
    "print(\"Estar = \",Estar)\n",
    "#DoS = np.array([(np.heaviside(mu,0) - np.heaviside(mu-Estar,0)) * A * np.abs(mu) + \n",
    "#       np.heaviside(mu - Estar,0) * P * np.log(np.abs((BW-Ev)/(mu-Ev))) for mu in Eset])\n",
    "\n",
    "s = 100/(A * Estar)\n",
    "DoS = np.array([(expit((mu)*s) - expit((mu-Estar)*s)) * A * np.abs(mu) + \n",
    "       expit((mu - Estar)*s) * P * np.log(np.abs((BW-Ev)/(mu-Ev))) for mu in Eset])\n",
    "#startindex = 108000\n",
    "#stopindex = 112000\n",
    "#startindex = 0\n",
    "#stopindex= 140000\n",
    "startindex, stopindex = [101000,112000]\n",
    "plt.plot(Eset[startindex:stopindex],DoS[startindex:stopindex])\n",
    "print(\"Ev = \", Ev)\n",
    "print(\"DOS at zero energy: \", DoS[0])\n",
    "print(\"Smoothing parameter is \", s)"
   ]
  },
  {
   "cell_type": "markdown",
   "id": "52baf52c-e275-493b-ac8d-be1776285564",
   "metadata": {},
   "source": [
    "### Compare slopes at $E_*$"
   ]
  },
  {
   "cell_type": "code",
   "execution_count": 121,
   "id": "07db2c5c-6857-4ab5-a7e1-490b879492c4",
   "metadata": {},
   "outputs": [
    {
     "name": "stdout",
     "output_type": "stream",
     "text": [
      "[4.174996027786585, 0.09770560062554938]\n"
     ]
    },
    {
     "ename": "ValueError",
     "evalue": "f(a) and f(b) must have different signs",
     "output_type": "error",
     "traceback": [
      "\u001b[1;31m---------------------------------------------------------------------------\u001b[0m",
      "\u001b[1;31mValueError\u001b[0m                                Traceback (most recent call last)",
      "\u001b[1;32m~\\AppData\\Local\\Temp/ipykernel_80080/2243036691.py\u001b[0m in \u001b[0;36m<module>\u001b[1;34m\u001b[0m\n\u001b[0;32m      7\u001b[0m \u001b[0mslope_log\u001b[0m\u001b[1;33m(\u001b[0m\u001b[0meqslop\u001b[0m\u001b[1;33m+\u001b[0m\u001b[1;36m10\u001b[0m\u001b[1;33m*\u001b[0m\u001b[0meps\u001b[0m\u001b[1;33m)\u001b[0m\u001b[1;33m\u001b[0m\u001b[1;33m\u001b[0m\u001b[0m\n\u001b[0;32m      8\u001b[0m \u001b[1;33m\u001b[0m\u001b[0m\n\u001b[1;32m----> 9\u001b[1;33m \u001b[0mEstar1\u001b[0m \u001b[1;33m=\u001b[0m \u001b[0mbisect\u001b[0m\u001b[1;33m(\u001b[0m\u001b[0mforbisection\u001b[0m\u001b[1;33m,\u001b[0m\u001b[0meqslop\u001b[0m\u001b[1;33m,\u001b[0m\u001b[0mEv\u001b[0m\u001b[1;33m-\u001b[0m\u001b[0meps\u001b[0m\u001b[1;33m,\u001b[0m\u001b[0margs\u001b[0m\u001b[1;33m=\u001b[0m\u001b[1;33m(\u001b[0m\u001b[0mA\u001b[0m\u001b[1;33m,\u001b[0m\u001b[0mP\u001b[0m\u001b[1;33m,\u001b[0m\u001b[0mBW\u001b[0m\u001b[1;33m,\u001b[0m\u001b[0mEv\u001b[0m\u001b[1;33m)\u001b[0m\u001b[1;33m)\u001b[0m\u001b[1;33m\u001b[0m\u001b[1;33m\u001b[0m\u001b[0m\n\u001b[0m",
      "\u001b[1;32m~\\anaconda3\\lib\\site-packages\\scipy\\optimize\\zeros.py\u001b[0m in \u001b[0;36mbisect\u001b[1;34m(f, a, b, args, xtol, rtol, maxiter, full_output, disp)\u001b[0m\n\u001b[0;32m    547\u001b[0m     \u001b[1;32mif\u001b[0m \u001b[0mrtol\u001b[0m \u001b[1;33m<\u001b[0m \u001b[0m_rtol\u001b[0m\u001b[1;33m:\u001b[0m\u001b[1;33m\u001b[0m\u001b[1;33m\u001b[0m\u001b[0m\n\u001b[0;32m    548\u001b[0m         \u001b[1;32mraise\u001b[0m \u001b[0mValueError\u001b[0m\u001b[1;33m(\u001b[0m\u001b[1;34m\"rtol too small (%g < %g)\"\u001b[0m \u001b[1;33m%\u001b[0m \u001b[1;33m(\u001b[0m\u001b[0mrtol\u001b[0m\u001b[1;33m,\u001b[0m \u001b[0m_rtol\u001b[0m\u001b[1;33m)\u001b[0m\u001b[1;33m)\u001b[0m\u001b[1;33m\u001b[0m\u001b[1;33m\u001b[0m\u001b[0m\n\u001b[1;32m--> 549\u001b[1;33m     \u001b[0mr\u001b[0m \u001b[1;33m=\u001b[0m \u001b[0m_zeros\u001b[0m\u001b[1;33m.\u001b[0m\u001b[0m_bisect\u001b[0m\u001b[1;33m(\u001b[0m\u001b[0mf\u001b[0m\u001b[1;33m,\u001b[0m \u001b[0ma\u001b[0m\u001b[1;33m,\u001b[0m \u001b[0mb\u001b[0m\u001b[1;33m,\u001b[0m \u001b[0mxtol\u001b[0m\u001b[1;33m,\u001b[0m \u001b[0mrtol\u001b[0m\u001b[1;33m,\u001b[0m \u001b[0mmaxiter\u001b[0m\u001b[1;33m,\u001b[0m \u001b[0margs\u001b[0m\u001b[1;33m,\u001b[0m \u001b[0mfull_output\u001b[0m\u001b[1;33m,\u001b[0m \u001b[0mdisp\u001b[0m\u001b[1;33m)\u001b[0m\u001b[1;33m\u001b[0m\u001b[1;33m\u001b[0m\u001b[0m\n\u001b[0m\u001b[0;32m    550\u001b[0m     \u001b[1;32mreturn\u001b[0m \u001b[0mresults_c\u001b[0m\u001b[1;33m(\u001b[0m\u001b[0mfull_output\u001b[0m\u001b[1;33m,\u001b[0m \u001b[0mr\u001b[0m\u001b[1;33m)\u001b[0m\u001b[1;33m\u001b[0m\u001b[1;33m\u001b[0m\u001b[0m\n\u001b[0;32m    551\u001b[0m \u001b[1;33m\u001b[0m\u001b[0m\n",
      "\u001b[1;31mValueError\u001b[0m: f(a) and f(b) must have different signs"
     ]
    }
   ],
   "source": [
    "def slope_line(x):\n",
    "    return A\n",
    "def slope_log(x) :\n",
    "    return P * ((Ev-x)/(BW-Ev)) * (1/(Ev-x)**2)\n",
    "print([slope_line(Estar), slope_log(Estar)])\n",
    "eqslop = bisect(lambda x: slope_line(x)-slope_log(x), 0, Ev-eps)\n",
    "slope_log(eqslop+10*eps)\n",
    "\n",
    "Estar1 = bisect(forbisection,eqslop,Ev-eps,args=(A,P,BW,Ev))\n"
   ]
  },
  {
   "cell_type": "code",
   "execution_count": null,
   "id": "fb6d747b-235b-4b1e-9e3b-ab6e4d5822a1",
   "metadata": {},
   "outputs": [],
   "source": []
  }
 ],
 "metadata": {
  "kernelspec": {
   "display_name": "Python 3 (ipykernel)",
   "language": "python",
   "name": "python3"
  },
  "language_info": {
   "codemirror_mode": {
    "name": "ipython",
    "version": 3
   },
   "file_extension": ".py",
   "mimetype": "text/x-python",
   "name": "python",
   "nbconvert_exporter": "python",
   "pygments_lexer": "ipython3",
   "version": "3.9.7"
  }
 },
 "nbformat": 4,
 "nbformat_minor": 5
}
