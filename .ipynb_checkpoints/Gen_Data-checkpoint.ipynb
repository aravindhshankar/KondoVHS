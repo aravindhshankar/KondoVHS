{
 "cells": [
  {
   "cell_type": "code",
   "execution_count": 1,
   "id": "dc6c82b0-9427-4f42-8676-0cf9e17c789e",
   "metadata": {},
   "outputs": [],
   "source": [
    "import numpy as np\n",
    "import cmath\n",
    "import matplotlib.pyplot as plt\n",
    "from scipy.signal import find_peaks as fp\n",
    "from mpmath import ellipk,log\n",
    "from scipy.special import gamma as GAMMA\n",
    "import os \n",
    "#from mpl_toolkits import mplot3d\n",
    "from scipy.optimize import fmin_cg, fmin_tnc, curve_fit, newton, bisect, fsolve\n",
    "from SourcesTBG import *\n",
    "from MoreSources import *\n",
    "from scipy.misc import derivative as scider\n",
    "import pandas as pd\n",
    "from scipy.linalg import eigh,eig,eigvalsh\n",
    "from functools import partial\n",
    "import seaborn as sns\n",
    "from FeynmanHellman import *\n",
    "from saddlefinder import *\n",
    "import csv\n",
    "from Decorators import *\n",
    "from YuanDos import *\n",
    "TO_DEGREE = 1.0/0.018326\n",
    "IN_RADIAN = np.pi/180\n",
    "vFpar = 4.31074647887324\n",
    "wpar=0.11\n",
    "BANDS = 8"
   ]
  },
  {
   "cell_type": "code",
   "execution_count": 2,
   "id": "37e0614b-3aa9-46e7-ab55-1ef8e4de8a7c",
   "metadata": {},
   "outputs": [],
   "source": [
    "thetaset = np.load('thetaset.npy')\n",
    "saddleset = np.load('saddleset.npy')\n",
    "rotangs = np.load('rotangs.npy')\n",
    "alphabeta = np.load('alphabeta.npy') #Note the need to multiply 0.5 to the values in the loaded alphabeta\n",
    "Evs = np.load('Evs.npy')\n",
    "gamma,kappa = np.load('gammakappa.npy') #No need to multiply any combinatorial factors here\n",
    "BWset = np.load('BWset.npy')"
   ]
  },
  {
   "cell_type": "code",
   "execution_count": 148,
   "id": "3510316c-4fec-4bcc-8112-8949c7db525b",
   "metadata": {},
   "outputs": [
    {
     "name": "stderr",
     "output_type": "stream",
     "text": [
      "C:\\Users\\Aravi\\Code\\KondoTBG\\YuanDos.py:85: RuntimeWarning: overflow encountered in exp\n",
      "  return (1.0/(1+np.exp(s*e)))\n"
     ]
    },
    {
     "name": "stdout",
     "output_type": "stream",
     "text": [
      "Ev= 0.002270298439262576 Cone Lowest =  1.1938360474127882e-09 End val =  1.767413510532123e-05 spar =  9278.332153218887\n"
     ]
    },
    {
     "data": {
      "image/png": "[encoded data removed]",
      "text/plain": [
       "<Figure size 576x288 with 2 Axes>"
      ]
     },
     "metadata": {
      "needs_background": "light"
     },
     "output_type": "display_data"
    }
   ],
   "source": [
    "ival = 8 #Number from 0-8 \n",
    "Ev = Evs[ival]\n",
    "thetai = thetaset[ival] * IN_RADIAN\n",
    "rotang = rotangs[ival][0] * IN_RADIAN\n",
    "alpha,beta = 0.5*alphabeta[ival] #Note the need to multiply 0.5 to the values in the loaded alphabeta\n",
    "kx0,ky0 = saddleset[ival]\n",
    "\n",
    "\n",
    "BW = 3.0 #consider a rough estimate of the bandwidth to be 3eV\n",
    "Eset = BW*np.logspace(-12,0,13*10000)\n",
    "MAGIC = True if ival == 5 else False\n",
    "\n",
    "\n",
    "#uppercutoff = np.amax(Z)\n",
    "#uppercutoff = 100*Ev\n",
    "uppercutoff = BW\n",
    "\n",
    "lowerlim = 95260\n",
    "upperlim = 97400\n",
    "\n",
    "if MAGIC:\n",
    "    DoS = 12*np.array([MagicvHSDoS(mu,alpha,gamma,kappa) for mu in Eset],dtype = 'float64')\n",
    "    plt.plot(Eset,DoS)\n",
    "    plt.ylim(0,1)\n",
    "else:\n",
    "    fig,(ax1,ax2) = plt.subplots(1,2, figsize = (8,4))\n",
    "    mtchscale = 0.9*Ev\n",
    "    constscale = 10 * Ev\n",
    "    spar = 1/DiracConeDoS_TBLG(Ev,thetai) * 1500\n",
    "       \n",
    "    offsetval = DiracConeDoS_TBLG(mtchscale,thetai) - 12*LogvHSDoS(mtchscale,alpha,-beta,Ev,offset=0,cutoffscale=1)\n",
    "    DiracDos = 1*np.array([DiracConeDoS_TBLG(mu,thetai) for mu in Eset],dtype = 'float64')\n",
    "    \n",
    "    vHSDOS = 12*np.array([LogvHSDoS(mu,alpha,-beta,Ev,offset=0,cutoffscale=uppercutoff) for mu in Eset],dtype = 'float64') \n",
    "    \n",
    "    FermiSummed = np.array([fermidirac(mu-mtchscale,spar)*DiracDos[mui] + fermidirac(mtchscale- mu,spar)*vHSDOS[mui] for mui,mu in enumerate(Eset)])\n",
    "    #FermiSummed -= FermiSummed[0]\n",
    "    DoS = FermiSummed\n",
    "    ax1.plot(Eset,FermiSummed)\n",
    "    ax1.set_title('Full Range')\n",
    "    ax2.plot(Eset[lowerlim:upperlim],FermiSummed[lowerlim:upperlim],label = 'Fermi-Dirac')\n",
    "    #plt.plot(Eset,0*Eset,'k--')\n",
    "    ax2.legend()\n",
    "    ax2.set_title('Zoom near vHS')\n",
    "    #plt.ylim(0,0.5)\n",
    "    print('Ev=',Ev, 'Cone Lowest = ', FermiSummed[0], 'End val = ', FermiSummed[-1], 'spar = ', spar)"
   ]
  },
  {
   "cell_type": "code",
   "execution_count": 149,
   "id": "d4f15bbd-b350-4e1d-a8fe-d5802807c2d4",
   "metadata": {},
   "outputs": [],
   "source": [
    "TOWRITE_X = np.concatenate((-np.flip(Eset),Eset))\n",
    "TOWRITE_Y = np.concatenate((np.flip(DoS),DoS))\n",
    "filename = os.path.join('DoS_Pass1',str(ival)+'.csv')\n",
    "pathlogfile = os.path.join('DoS_Pass1',str(ival)+'log.txt')\n",
    "with open(filename, 'w', newline='') as f:\n",
    "    writer = csv.writer(f)\n",
    "    writer.writerows(zip(TOWRITE_X,TOWRITE_Y))\n",
    "\n",
    "\n",
    "with open(pathlogfile,'w', newline = '') as f:\n",
    "    f.write(str((int(thetaset[ival]*100)/100,Ev,mtchscale,spar)))"
   ]
  },
  {
   "cell_type": "code",
   "execution_count": 56,
   "id": "a7cd2319-bbb0-451b-a258-3f7342e7372e",
   "metadata": {},
   "outputs": [
    {
     "name": "stdout",
     "output_type": "stream",
     "text": [
      "[-4 -3 -2 -1  1  2  3  4]\n",
      "[104 103 102 101 101 102 103 104]\n"
     ]
    }
   ],
   "source": [
    "# a = np.array([1,2,3,4])\n",
    "# b = np.array([101,102,103,104])\n",
    "# #print(np.array([-np.flip(a)] + [a]).flatten())\n",
    "# print(np.concatenate((-np.flip(a),a)))\n",
    "# print(np.concatenate((np.flip(b),b)))"
   ]
  },
  {
   "cell_type": "code",
   "execution_count": 57,
   "id": "9191afc2-6100-493f-96bb-9ef0828a24a0",
   "metadata": {},
   "outputs": [
    {
     "name": "stdout",
     "output_type": "stream",
     "text": [
      "\\Dos_Pass1\\4.csv\n"
     ]
    }
   ],
   "source": []
  },
  {
   "cell_type": "code",
   "execution_count": null,
   "id": "b1717f1b-4ad6-42f0-9cdf-55c415295761",
   "metadata": {},
   "outputs": [],
   "source": []
  }
 ],
 "metadata": {
  "kernelspec": {
   "display_name": "Python 3 (ipykernel)",
   "language": "python",
   "name": "python3"
  },
  "language_info": {
   "codemirror_mode": {
    "name": "ipython",
    "version": 3
   },
   "file_extension": ".py",
   "mimetype": "text/x-python",
   "name": "python",
   "nbconvert_exporter": "python",
   "pygments_lexer": "ipython3",
   "version": "3.9.7"
  }
 },
 "nbformat": 4,
 "nbformat_minor": 5
}
