{
 "cells": [
  {
   "cell_type": "code",
   "execution_count": 1,
   "id": "b027371b-d84d-4062-aba6-ce3dbae4e5f2",
   "metadata": {},
   "outputs": [],
   "source": [
    "import numpy as np\n",
    "import cmath\n",
    "import matplotlib.pyplot as plt\n",
    "from scipy.signal import find_peaks as fp\n",
    "from mpmath import ellipk,log\n",
    "from scipy.special import gamma as GAMMA\n",
    "import os \n",
    "#from mpl_toolkits import mplot3d\n",
    "from scipy.optimize import fmin_cg, fmin_tnc, curve_fit, newton, bisect, fsolve\n",
    "from SourcesTBG import *\n",
    "from MoreSources import *\n",
    "from scipy.misc import derivative as scider\n",
    "import pandas as pd\n",
    "from scipy.linalg import eigh,eig,eigvalsh\n",
    "from functools import partial\n",
    "import seaborn as sns\n",
    "from FeynmanHellman import *\n",
    "from saddlefinder import *\n",
    "import csv\n",
    "from Decorators import *\n",
    "from YuanDos import *\n",
    "TO_DEGREE = 1.0/0.018326\n",
    "IN_RADIAN = np.pi/180\n",
    "vFpar = 4.31074647887324\n",
    "wpar=0.11\n",
    "BANDS = 8"
   ]
  },
  {
   "cell_type": "code",
   "execution_count": 2,
   "id": "279ee8f5-d197-40be-9ceb-7b26722bb1d7",
   "metadata": {},
   "outputs": [],
   "source": [
    "thetaset = np.load('thetaset.npy')\n",
    "saddleset = np.load('saddleset.npy')\n",
    "rotangs = np.load('rotangs.npy')\n",
    "alphabeta = np.load('alphabeta.npy') #Note the need to multiply 0.5 to the values in the loaded alphabeta\n",
    "Evs = np.load('Evs.npy')\n",
    "gamma,kappa = np.load('gammakappa.npy') #No need to multiply any combinatorial factors here\n",
    "BWset = np.load('BWset.npy')"
   ]
  },
  {
   "cell_type": "code",
   "execution_count": 3,
   "id": "68d04795-c6ed-4aea-8b47-04154d6bb70b",
   "metadata": {},
   "outputs": [],
   "source": [
    "ival = 5 #Number from 0-8 \n",
    "Ev = Evs[ival]\n",
    "thetai = thetaset[ival] * IN_RADIAN\n",
    "rotang = rotangs[ival][0] * IN_RADIAN\n",
    "alpha,beta = 0.5*alphabeta[ival] #Note the need to multiply 0.5 to the values in the loaded alphabeta\n",
    "kx0,ky0 = saddleset[ival]"
   ]
  },
  {
   "cell_type": "code",
   "execution_count": 4,
   "id": "97fc4670",
   "metadata": {},
   "outputs": [],
   "source": [
    "X = np.linspace(-0.055,0.055,150)\n",
    "Y = np.linspace(-0.055,0.055,150)\n",
    "padding = 0.01\n",
    "#X = np.linspace(kx0-padding,kx0+padding,120)\n",
    "#Y = np.linspace(ky0-padding,ky0+padding,120)\n",
    "X,Y,Z = data_for_contours(thetaset[ival],X=X,Y=Y)"
   ]
  },
  {
   "cell_type": "code",
   "execution_count": 5,
   "id": "38fff867",
   "metadata": {},
   "outputs": [
    {
     "name": "stdout",
     "output_type": "stream",
     "text": [
      "Ev =  7.156710005445224e-07\n"
     ]
    },
    {
     "data": {
      "image/png": "[encoded data removed]",
      "text/plain": [
       "<Figure size 432x288 with 1 Axes>"
      ]
     },
     "metadata": {
      "needs_background": "light"
     },
     "output_type": "display_data"
    }
   ],
   "source": [
    "MAGIC = True if ival == 5 else False\n",
    "\n",
    "#X = np.linspace(-0.055,0.055,150)\n",
    "#Y = np.linspace(-0.055,0.055,150)\n",
    "# padding = 0.001\n",
    "# X = np.linspace(kx0-padding,kx0+padding,120)\n",
    "# Y = np.linspace(ky0-padding,ky0+padding,120)\n",
    "# X,Y,Z = data_for_contours(thetaset[ival],X=X,Y=Y)\n",
    "\n",
    "#uppercutoff = 2*Ev\n",
    "#uppercutoff = 0.008\n",
    "uppercutoff = np.amax(Z)\n",
    "\n",
    "if MAGIC:\n",
    "    muvals = np.linspace(0.000000000001,uppercutoff,1000)\n",
    "    DoS = 12*np.array([MagicvHSDoS(mu,alpha,gamma,kappa) for mu in muvals],dtype = 'float64')\n",
    "    plt.plot(muvals,DoS)\n",
    "    plt.ylim(0,1)\n",
    "else:\n",
    "    #muvals = np.linspace(0.0000000001,uppercutoff,1000)\n",
    "    muvals = np.linspace(0.0000000001,5*Ev,1000)\n",
    "    mtchscale = 0.9*Ev\n",
    "    #spar = 1/muvals[-1] * 100\n",
    "    spar = 1/DiracConeDoS_TBLG(Ev,thetai) * 10000\n",
    "   \n",
    "    offsetval = DiracConeDoS_TBLG(mtchscale,thetai) - 12*LogvHSDoS(mtchscale,alpha,-beta,Ev,offset=0,cutoffscale=1)\n",
    "    DiracDos = 1*np.array([DiracConeDoS_TBLG(mu,thetai) for mu in muvals],dtype = 'float64')\n",
    "    \n",
    "    vHSDOS = 12*np.array([LogvHSDoS(mu,alpha,-beta,Ev,offset=0,cutoffscale=uppercutoff) for mu in muvals],dtype = 'float64')\n",
    "    HeavisideSummed = np.array([np.heaviside(mu-mtchscale,0)*vHSDOS[mui] + np.heaviside(mtchscale- mu,0)*DiracDos[mui] for mui,mu in enumerate(muvals)]) \n",
    "    \n",
    "    FermiSummed = np.array([fermidirac(mu-mtchscale,spar)*DiracDos[mui] + fermidirac(mtchscale- mu,spar)*vHSDOS[mui] for mui,mu in enumerate(muvals)])\n",
    "    FermiSummed -= FermiSummed[0]\n",
    "    #plt.plot(muvals,DiracDos,'-.',label='Dirac bit')\n",
    "    plt.plot(muvals,vHSDOS,'--',label = 'vHS bit')\n",
    "    #plt.plot(muvals,HeavisideSummed,label = 'Heaviside')\n",
    "    plt.plot(muvals,FermiSummed,label = 'Fermi-Dirac')\n",
    "    plt.plot(muvals,0*muvals,'k--')\n",
    "    plt.legend()\n",
    "    #plt.ylim(0,0.5)\n",
    "\n",
    "plt.xlabel('Energy')\n",
    "\n",
    "plt.ylabel('DoS')\n",
    "plt.title('$\\\\theta = $' + str(int(thetaset[ival]*100)/100))\n",
    "plt.axvline(Ev,color = 'gray', ls = '--')\n",
    "print('Ev = ', Ev)\n",
    "#print('rho(0) = ', FermiSummed[0])\n",
    "#print('rho(-1) = ', FermiSummed[-1])"
   ]
  },
  {
   "cell_type": "markdown",
   "id": "72d040ce-648a-4f10-a7b7-353ac92c9e31",
   "metadata": {},
   "source": [
    "### Compare with a rough estimate from a histogram created by diagonalizing the hamiltonian"
   ]
  },
  {
   "cell_type": "code",
   "execution_count": 6,
   "id": "4a024c18-ecaa-450f-9412-9d43d9086350",
   "metadata": {},
   "outputs": [
    {
     "ename": "NameError",
     "evalue": "name 'FermiSummed' is not defined",
     "output_type": "error",
     "traceback": [
      "\u001b[1;31m---------------------------------------------------------------------------\u001b[0m",
      "\u001b[1;31mNameError\u001b[0m                                 Traceback (most recent call last)",
      "\u001b[1;32m~\\AppData\\Local\\Temp/ipykernel_76284/2682960868.py\u001b[0m in \u001b[0;36m<module>\u001b[1;34m\u001b[0m\n\u001b[0;32m     10\u001b[0m \u001b[1;31m#ax.set_ylim(-20,300)\u001b[0m\u001b[1;33m\u001b[0m\u001b[1;33m\u001b[0m\u001b[0m\n\u001b[0;32m     11\u001b[0m \u001b[1;31m#ax.plot(np.arange(0,0.5*Ev,100), 0*np.arange(0,0.5*Ev,100),'k--')\u001b[0m\u001b[1;33m\u001b[0m\u001b[1;33m\u001b[0m\u001b[0m\n\u001b[1;32m---> 12\u001b[1;33m \u001b[0mplt\u001b[0m\u001b[1;33m.\u001b[0m\u001b[0mplot\u001b[0m\u001b[1;33m(\u001b[0m\u001b[0mmuvals\u001b[0m\u001b[1;33m,\u001b[0m\u001b[1;36m1\u001b[0m\u001b[1;33m*\u001b[0m\u001b[0mFermiSummed\u001b[0m\u001b[1;33m,\u001b[0m\u001b[0mlabel\u001b[0m \u001b[1;33m=\u001b[0m \u001b[1;34m'Fermi-Dirac'\u001b[0m\u001b[1;33m)\u001b[0m\u001b[1;33m\u001b[0m\u001b[1;33m\u001b[0m\u001b[0m\n\u001b[0m\u001b[0;32m     13\u001b[0m \u001b[1;31m#plt.plot(muvals,3*np.abs(muvals-Ev)**-0.33)\u001b[0m\u001b[1;33m\u001b[0m\u001b[1;33m\u001b[0m\u001b[0m\n\u001b[0;32m     14\u001b[0m \u001b[0mnp\u001b[0m\u001b[1;33m.\u001b[0m\u001b[0mamin\u001b[0m\u001b[1;33m(\u001b[0m\u001b[0mser\u001b[0m\u001b[1;33m)\u001b[0m\u001b[1;33m\u001b[0m\u001b[1;33m\u001b[0m\u001b[0m\n",
      "\u001b[1;31mNameError\u001b[0m: name 'FermiSummed' is not defined"
     ]
    },
    {
     "data": {
      "image/png": "[encoded data removed]",
      "text/plain": [
       "<Figure size 432x288 with 1 Axes>"
      ]
     },
     "metadata": {
      "needs_background": "light"
     },
     "output_type": "display_data"
    }
   ],
   "source": [
    "#fig,ax = plt.subplots()\n",
    "#ser = pd.Series(Z.flatten())\n",
    "\n",
    "#sns.kdeplot(ser,ax=ax, bw_adjust=.01, clip = (0,np.amax(Z)))\n",
    "#sns.kdeplot(ser,ax=ax, bw_adjust=.01, clip = (0,5*Ev))\n",
    "#ax.set_xlabel('Energy')\n",
    "#ax.axvline(x = Ev, color = 'grey', ls = '--')\n",
    "#title_str = '$\\\\theta$ = ' + str(int(thetaset[ival]*1000)/1000) + ' degrees, Ev =  ' + str(int(Ev*100000)/100000)  \n",
    "#ax.set_title(title_str)\n",
    "#ax.set_ylim(-20,300)\n",
    "#ax.plot(np.arange(0,0.5*Ev,100), 0*np.arange(0,0.5*Ev,100),'k--')\n",
    "#plt.plot(muvals,1*FermiSummed,label = 'Fermi-Dirac')\n",
    "#plt.plot(muvals,3*np.abs(muvals-Ev)**-0.33)\n",
    "#np.amin(ser)"
   ]
  },
  {
   "cell_type": "code",
   "execution_count": null,
   "id": "4bfbcd65",
   "metadata": {},
   "outputs": [],
   "source": [
    "plt.contour(X,Y,Z,levels=80)"
   ]
  },
  {
   "cell_type": "code",
   "execution_count": null,
   "id": "6f043e46",
   "metadata": {},
   "outputs": [],
   "source": [
    "df = pd.DataFrame(Z)\n",
    "df.columns = [int(float_vali * 100)/100 for float_vali in Y]\n",
    "df.index = [int(float_vali * 100)/100 for float_vali in X]\n",
    "ax = sns.heatmap(df, vmin = 0, vmax = 0.008, fmt = '.3f',cmap='icefire',xticklabels = 10, yticklabels = 10 )\n",
    "ax.set_title('$\\\\theta$ = ' + str(int(thetaset[ival] * 100)/100 ) + ' degrees')"
   ]
  },
  {
   "cell_type": "code",
   "execution_count": null,
   "id": "4592c38a",
   "metadata": {},
   "outputs": [],
   "source": [
    "plt.plot(thetaset,Evs,'p-')"
   ]
  },
  {
   "cell_type": "code",
   "execution_count": null,
   "id": "ff871156",
   "metadata": {},
   "outputs": [],
   "source": [
    "D = BWset[5]\n",
    "print(Evs/D)\n",
    "10**np.arange(-1,-6.5,-0.5)"
   ]
  },
  {
   "cell_type": "code",
   "execution_count": null,
   "id": "d50590f6",
   "metadata": {},
   "outputs": [],
   "source": [
    "150*150/(4*np.pi**2)"
   ]
  },
  {
   "cell_type": "code",
   "execution_count": null,
   "id": "fbf0c0b4",
   "metadata": {},
   "outputs": [],
   "source": [
    "x = 3*np.logspace(-12,0,13*10)\n",
    "y = x**2\n",
    "plt.loglog(x,y,'p')\n",
    "print(np.amax(x),np.amin(x))\n",
    "print(len(x))\n",
    "\n",
    "print(x)"
   ]
  },
  {
   "cell_type": "code",
   "execution_count": 68,
   "id": "bd5c37c7-c840-415e-b572-e466b56a4eb0",
   "metadata": {},
   "outputs": [
    {
     "name": "stderr",
     "output_type": "stream",
     "text": [
      "C:\\Users\\Aravi\\Code\\KondoTBG\\YuanDos.py:85: RuntimeWarning: overflow encountered in exp\n",
      "  return (1.0/(1+np.exp(s*e)))\n"
     ]
    },
    {
     "name": "stdout",
     "output_type": "stream",
     "text": [
      "0.0007378337176757914 0.0009909126036641654 7.586299162160135e-06\n"
     ]
    },
    {
     "data": {
      "image/png": "[encoded data removed]",
      "text/plain": [
       "<Figure size 432x288 with 1 Axes>"
      ]
     },
     "metadata": {
      "needs_background": "light"
     },
     "output_type": "display_data"
    }
   ],
   "source": [
    "ival = 3 #Number from 0-8 \n",
    "Ev = Evs[ival]\n",
    "thetai = thetaset[ival] * IN_RADIAN\n",
    "rotang = rotangs[ival][0] * IN_RADIAN\n",
    "alpha,beta = 0.5*alphabeta[ival] #Note the need to multiply 0.5 to the values in the loaded alphabeta\n",
    "kx0,ky0 = saddleset[ival]\n",
    "\n",
    "\n",
    "BW = 3 #consider a rough estimate of the bandwidth to be 3eV\n",
    "Eset = BW*np.logspace(-12,0,13*1000)\n",
    "MAGIC = True if ival == 5 else False\n",
    "\n",
    "\n",
    "#uppercutoff = np.amax(Z)\n",
    "#uppercutoff = 100*Ev\n",
    "uppercutoff = BW\n",
    "\n",
    "lowerlim = 9000\n",
    "upperlim = 9200\n",
    "if MAGIC:\n",
    "    #muvals = np.linspace(0.000000000001,uppercutoff,1000)\n",
    "    DoS = 12*np.array([MagicvHSDoS(mu,alpha,gamma,kappa) for mu in Eset],dtype = 'float64')\n",
    "    plt.plot(Eset,DoS)\n",
    "    plt.ylim(0,1)\n",
    "else:\n",
    "    mtchscale = 0.9*Ev\n",
    "    constscale = 10 * Ev\n",
    "    spar = 1/DiracConeDoS_TBLG(Ev,thetai) * 1000\n",
    "   \n",
    "    offsetval = DiracConeDoS_TBLG(mtchscale,thetai) - 12*LogvHSDoS(mtchscale,alpha,-beta,Ev,offset=0,cutoffscale=1)\n",
    "    DiracDos = 1*np.array([DiracConeDoS_TBLG(mu,thetai) for mu in Eset],dtype = 'float64')\n",
    "    \n",
    "    vHSDOS = 12*np.array([LogvHSDoS(mu,alpha,-beta,Ev,offset=0,cutoffscale=uppercutoff) for mu in Eset],dtype = 'float64') \n",
    "    \n",
    "    FermiSummed = np.array([fermidirac(mu-mtchscale,spar)*DiracDos[mui] + fermidirac(mtchscale- mu,spar)*vHSDOS[mui] for mui,mu in enumerate(Eset)])\n",
    "    #FermiSummed -= FermiSummed[0]\n",
    "    plt.plot(Eset[lowerlim:upperlim],FermiSummed[lowerlim:upperlim],label = 'Fermi-Dirac')\n",
    "    #plt.plot(Eset,0*Eset,'k--')\n",
    "    plt.legend()\n",
    "    #plt.ylim(0,0.5)\n",
    "    print(Ev,FermiSummed[0],FermiSummed[-1])"
   ]
  },
  {
   "cell_type": "code",
   "execution_count": 10,
   "id": "f7fcc54f-f7ba-4038-919f-0d79e1441bce",
   "metadata": {},
   "outputs": [
    {
     "name": "stdout",
     "output_type": "stream",
     "text": [
      "[3.88366179e+00 2.66260627e+00 1.58921711e+00 7.37833718e-01\n",
      " 1.83946698e-01 7.15671001e-04 2.54392163e-01 9.98947210e-01\n",
      " 2.27029844e+00]\n"
     ]
    }
   ],
   "source": [
    "print(Evs*1000)"
   ]
  },
  {
   "cell_type": "code",
   "execution_count": null,
   "id": "586f8acc-4368-412e-8268-a8ca13db9df5",
   "metadata": {},
   "outputs": [],
   "source": []
  }
 ],
 "metadata": {
  "kernelspec": {
   "display_name": "Python 3 (ipykernel)",
   "language": "python",
   "name": "python3"
  },
  "language_info": {
   "codemirror_mode": {
    "name": "ipython",
    "version": 3
   },
   "file_extension": ".py",
   "mimetype": "text/x-python",
   "name": "python",
   "nbconvert_exporter": "python",
   "pygments_lexer": "ipython3",
   "version": "3.9.7"
  }
 },
 "nbformat": 4,
 "nbformat_minor": 5
}
