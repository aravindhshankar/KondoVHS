{
 "cells": [
  {
   "cell_type": "code",
   "execution_count": 1,
   "id": "fb231ae2-54e0-4612-bcf5-ead9677df88f",
   "metadata": {},
   "outputs": [],
   "source": [
    "import numpy as np\n",
    "import cmath\n",
    "import matplotlib.pyplot as plt\n",
    "from scipy.signal import find_peaks as fp\n",
    "from mpmath import ellipk,log\n",
    "from scipy.special import gamma as GAMMA\n",
    "from scipy.special import expit\n",
    "import os \n",
    "#from mpl_toolkits import mplot3d\n",
    "from scipy.optimize import fmin_cg, fmin_tnc, curve_fit, newton, bisect, fsolve\n",
    "from SourcesTBG import *\n",
    "from MoreSources import *\n",
    "from scipy.misc import derivative as scider\n",
    "import pandas as pd\n",
    "from scipy.linalg import eigh,eig,eigvalsh\n",
    "from functools import partial\n",
    "import seaborn as sns\n",
    "from FeynmanHellman import *\n",
    "from saddlefinder import *\n",
    "import csv\n",
    "from Decorators import *\n",
    "from YuanDos import *\n",
    "from DosHelper import *\n",
    "TO_DEGREE = 1.0/0.018326\n",
    "IN_RADIAN = np.pi/180\n",
    "vFpar = 4.31074647887324\n",
    "wpar=0.11\n",
    "BANDS = 8"
   ]
  },
  {
   "cell_type": "code",
   "execution_count": 2,
   "id": "cd9d0145-501a-41a6-9dab-672a0129f506",
   "metadata": {},
   "outputs": [],
   "source": [
    "BASE_PATH = \"C:/Users/Aravi/OneDrive/Documents/DataSets/dos/\"\n",
    "if not os.path.exists(BASE_PATH):\n",
    "     raise(Exception(\"CHECK THE BASE PATH\"))"
   ]
  },
  {
   "cell_type": "code",
   "execution_count": 3,
   "id": "86bf559f-2a9b-4d91-ab0d-a7324622e4eb",
   "metadata": {},
   "outputs": [],
   "source": [
    "FILENAME = \"dos_th1.05.dat\"\n",
    "PATH = os.path.join(BASE_PATH, FILENAME)\n",
    "if not os.path.exists(PATH):\n",
    "    raise(Exception(\"FILE DOES NOT EXIST\"))\n",
    "\n",
    "ret = ret_alpha_beta_Ev(1.05)\n",
    "Ev = ret[1]"
   ]
  },
  {
   "cell_type": "code",
   "execution_count": 4,
   "id": "709b0be3-c79c-4117-b5c0-50706649f33e",
   "metadata": {},
   "outputs": [
    {
     "data": {
      "text/html": [
       "<div>\n",
       "<style scoped>\n",
       "    .dataframe tbody tr th:only-of-type {\n",
       "        vertical-align: middle;\n",
       "    }\n",
       "\n",
       "    .dataframe tbody tr th {\n",
       "        vertical-align: top;\n",
       "    }\n",
       "\n",
       "    .dataframe thead th {\n",
       "        text-align: right;\n",
       "    }\n",
       "</style>\n",
       "<table border=\"1\" class=\"dataframe\">\n",
       "  <thead>\n",
       "    <tr style=\"text-align: right;\">\n",
       "      <th></th>\n",
       "      <th>E</th>\n",
       "      <th>DOS</th>\n",
       "    </tr>\n",
       "  </thead>\n",
       "  <tbody>\n",
       "    <tr>\n",
       "      <th>0</th>\n",
       "      <td>-1.000000</td>\n",
       "      <td>0.375000</td>\n",
       "    </tr>\n",
       "    <tr>\n",
       "      <th>1</th>\n",
       "      <td>-0.998004</td>\n",
       "      <td>0.375187</td>\n",
       "    </tr>\n",
       "    <tr>\n",
       "      <th>2</th>\n",
       "      <td>-0.996012</td>\n",
       "      <td>0.375375</td>\n",
       "    </tr>\n",
       "    <tr>\n",
       "      <th>3</th>\n",
       "      <td>-0.994024</td>\n",
       "      <td>0.375562</td>\n",
       "    </tr>\n",
       "    <tr>\n",
       "      <th>4</th>\n",
       "      <td>-0.992040</td>\n",
       "      <td>0.375750</td>\n",
       "    </tr>\n",
       "  </tbody>\n",
       "</table>\n",
       "</div>"
      ],
      "text/plain": [
       "          E       DOS\n",
       "0 -1.000000  0.375000\n",
       "1 -0.998004  0.375187\n",
       "2 -0.996012  0.375375\n",
       "3 -0.994024  0.375562\n",
       "4 -0.992040  0.375750"
      ]
     },
     "execution_count": 4,
     "metadata": {},
     "output_type": "execute_result"
    }
   ],
   "source": [
    "df = pd.read_csv(PATH,header=None)\n",
    "df.columns = ['E','DOS']\n",
    "df.head()"
   ]
  },
  {
   "cell_type": "code",
   "execution_count": 19,
   "id": "752e6c89-4f58-4c0f-a63b-013c93b8596e",
   "metadata": {},
   "outputs": [
    {
     "data": {
      "text/plain": [
       "(0.0, 1e-08)"
      ]
     },
     "execution_count": 19,
     "metadata": {},
     "output_type": "execute_result"
    },
    {
     "data": {
      "image/png": "[encoded data removed]",
      "text/plain": [
       "<Figure size 432x288 with 1 Axes>"
      ]
     },
     "metadata": {
      "needs_background": "light"
     },
     "output_type": "display_data"
    }
   ],
   "source": [
    "#df.plot(x='E',y='DOS',loglog=True)  #This one is only for magic angle\n",
    "df.plot(x='E',y='DOS')\n",
    "plt.xlim(0,0.00000001)\n",
    "#plt.ylim(0,0.5)"
   ]
  },
  {
   "cell_type": "code",
   "execution_count": 6,
   "id": "7dcb06e5-795d-4981-8874-0d66012c3fff",
   "metadata": {},
   "outputs": [
    {
     "data": {
      "text/html": [
       "<div>\n",
       "<style scoped>\n",
       "    .dataframe tbody tr th:only-of-type {\n",
       "        vertical-align: middle;\n",
       "    }\n",
       "\n",
       "    .dataframe tbody tr th {\n",
       "        vertical-align: top;\n",
       "    }\n",
       "\n",
       "    .dataframe thead th {\n",
       "        text-align: right;\n",
       "    }\n",
       "</style>\n",
       "<table border=\"1\" class=\"dataframe\">\n",
       "  <thead>\n",
       "    <tr style=\"text-align: right;\">\n",
       "      <th></th>\n",
       "      <th>E</th>\n",
       "      <th>DOS</th>\n",
       "    </tr>\n",
       "  </thead>\n",
       "  <tbody>\n",
       "    <tr>\n",
       "      <th>19592</th>\n",
       "      <td>-9.990788e-18</td>\n",
       "      <td>6670.084375</td>\n",
       "    </tr>\n",
       "    <tr>\n",
       "      <th>19593</th>\n",
       "      <td>-9.970847e-18</td>\n",
       "      <td>6673.416919</td>\n",
       "    </tr>\n",
       "  </tbody>\n",
       "</table>\n",
       "</div>"
      ],
      "text/plain": [
       "                  E          DOS\n",
       "19592 -9.990788e-18  6670.084375\n",
       "19593 -9.970847e-18  6673.416919"
      ]
     },
     "execution_count": 6,
     "metadata": {},
     "output_type": "execute_result"
    }
   ],
   "source": [
    "idxE0 = df.query('E<0.000000000000000001 and E>-0.00000000000000001')['DOS'].idxmin()\n",
    "df.iloc[[idxE0,idxE0+1]]"
   ]
  },
  {
   "cell_type": "code",
   "execution_count": 7,
   "id": "ca1e98d8-15a8-49a4-9838-865772e359d2",
   "metadata": {},
   "outputs": [
    {
     "data": {
      "text/plain": [
       "<matplotlib.lines.Line2D at 0x206997161f0>"
      ]
     },
     "execution_count": 7,
     "metadata": {},
     "output_type": "execute_result"
    },
    {
     "data": {
      "image/png": "[encoded data removed]",
      "text/plain": [
       "<Figure size 432x288 with 1 Axes>"
      ]
     },
     "metadata": {
      "needs_background": "light"
     },
     "output_type": "display_data"
    }
   ],
   "source": [
    "#df.plot(marker='o')\n",
    "df.plot(x='E',y='DOS',marker='o')\n",
    "plt.xlim(0.98*Ev/3,1.02*Ev/3)\n",
    "plt.axvline(Ev/3)"
   ]
  },
  {
   "cell_type": "code",
   "execution_count": 8,
   "id": "4c645db4-0b3a-446d-b6bc-420ec9286dab",
   "metadata": {},
   "outputs": [
    {
     "data": {
      "text/plain": [
       "(array([-1.05224064e-03,  7.63357044e+01]),\n",
       " 4.512924733571832e-07,\n",
       " (array([0.00990726, 0.04297587]), 303, 3))"
      ]
     },
     "execution_count": 8,
     "metadata": {},
     "output_type": "execute_result"
    }
   ],
   "source": [
    "ret"
   ]
  },
  {
   "cell_type": "code",
   "execution_count": null,
   "id": "764716b9-3a77-4973-93af-bff83f0e5823",
   "metadata": {},
   "outputs": [],
   "source": []
  }
 ],
 "metadata": {
  "kernelspec": {
   "display_name": "Python 3 (ipykernel)",
   "language": "python",
   "name": "python3"
  },
  "language_info": {
   "codemirror_mode": {
    "name": "ipython",
    "version": 3
   },
   "file_extension": ".py",
   "mimetype": "text/x-python",
   "name": "python",
   "nbconvert_exporter": "python",
   "pygments_lexer": "ipython3",
   "version": "3.9.7"
  }
 },
 "nbformat": 4,
 "nbformat_minor": 5
}
