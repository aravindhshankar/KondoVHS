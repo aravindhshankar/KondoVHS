{
 "cells": [
  {
   "cell_type": "code",
   "execution_count": 1,
   "id": "fb231ae2-54e0-4612-bcf5-ead9677df88f",
   "metadata": {},
   "outputs": [],
   "source": [
    "import numpy as np\n",
    "import cmath\n",
    "import matplotlib.pyplot as plt\n",
    "from scipy.signal import find_peaks as fp\n",
    "from mpmath import ellipk,log\n",
    "from scipy.special import gamma as GAMMA\n",
    "from scipy.special import expit\n",
    "import os \n",
    "#from mpl_toolkits import mplot3d\n",
    "from scipy.optimize import fmin_cg, fmin_tnc, curve_fit, newton, bisect, fsolve\n",
    "from SourcesTBG import *\n",
    "from MoreSources import *\n",
    "from scipy.misc import derivative as scider\n",
    "import pandas as pd\n",
    "from scipy.linalg import eigh,eig,eigvalsh\n",
    "from functools import partial\n",
    "import seaborn as sns\n",
    "from FeynmanHellman import *\n",
    "from saddlefinder import *\n",
    "import csv\n",
    "from Decorators import *\n",
    "from YuanDos import *\n",
    "from DosHelper import *\n",
    "TO_DEGREE = 1.0/0.018326\n",
    "IN_RADIAN = np.pi/180\n",
    "vFpar = 4.31074647887324\n",
    "wpar=0.11\n",
    "BANDS = 8"
   ]
  },
  {
   "cell_type": "code",
   "execution_count": 2,
   "id": "cd9d0145-501a-41a6-9dab-672a0129f506",
   "metadata": {},
   "outputs": [],
   "source": [
    "BASE_PATH = \"C:/Users/Aravi/OneDrive/Documents/DataSets/dos/\"\n",
    "if not os.path.exists(BASE_PATH):\n",
    "     raise(Exception(\"CHECK THE BASE PATH\"))"
   ]
  },
  {
   "cell_type": "code",
   "execution_count": 3,
   "id": "86bf559f-2a9b-4d91-ab0d-a7324622e4eb",
   "metadata": {},
   "outputs": [],
   "source": [
    "FILENAME = \"dos_th1.6.dat\"\n",
    "PATH = os.path.join(BASE_PATH, FILENAME)\n",
    "if not os.path.exists(PATH):\n",
    "    raise(Exception(\"FILE DOES NOT EXIST\"))\n",
    "\n",
    "ret = ret_alpha_beta_Ev(1.6)\n",
    "Ev = ret[1]"
   ]
  },
  {
   "cell_type": "code",
   "execution_count": 4,
   "id": "709b0be3-c79c-4117-b5c0-50706649f33e",
   "metadata": {},
   "outputs": [
    {
     "data": {
      "text/html": [
       "<div>\n",
       "<style scoped>\n",
       "    .dataframe tbody tr th:only-of-type {\n",
       "        vertical-align: middle;\n",
       "    }\n",
       "\n",
       "    .dataframe tbody tr th {\n",
       "        vertical-align: top;\n",
       "    }\n",
       "\n",
       "    .dataframe thead th {\n",
       "        text-align: right;\n",
       "    }\n",
       "</style>\n",
       "<table border=\"1\" class=\"dataframe\">\n",
       "  <thead>\n",
       "    <tr style=\"text-align: right;\">\n",
       "      <th></th>\n",
       "      <th>E</th>\n",
       "      <th>DOS</th>\n",
       "    </tr>\n",
       "  </thead>\n",
       "  <tbody>\n",
       "    <tr>\n",
       "      <th>0</th>\n",
       "      <td>-1.000000</td>\n",
       "      <td>0.391805</td>\n",
       "    </tr>\n",
       "    <tr>\n",
       "      <th>1</th>\n",
       "      <td>-0.998004</td>\n",
       "      <td>0.391996</td>\n",
       "    </tr>\n",
       "    <tr>\n",
       "      <th>2</th>\n",
       "      <td>-0.996012</td>\n",
       "      <td>0.392187</td>\n",
       "    </tr>\n",
       "    <tr>\n",
       "      <th>3</th>\n",
       "      <td>-0.994024</td>\n",
       "      <td>0.392378</td>\n",
       "    </tr>\n",
       "    <tr>\n",
       "      <th>4</th>\n",
       "      <td>-0.992040</td>\n",
       "      <td>0.392569</td>\n",
       "    </tr>\n",
       "  </tbody>\n",
       "</table>\n",
       "</div>"
      ],
      "text/plain": [
       "          E       DOS\n",
       "0 -1.000000  0.391805\n",
       "1 -0.998004  0.391996\n",
       "2 -0.996012  0.392187\n",
       "3 -0.994024  0.392378\n",
       "4 -0.992040  0.392569"
      ]
     },
     "execution_count": 4,
     "metadata": {},
     "output_type": "execute_result"
    }
   ],
   "source": [
    "df = pd.read_csv(PATH,header=None)\n",
    "df.columns = ['E','DOS']\n",
    "df.head()"
   ]
  },
  {
   "cell_type": "code",
   "execution_count": 5,
   "id": "752e6c89-4f58-4c0f-a63b-013c93b8596e",
   "metadata": {},
   "outputs": [
    {
     "data": {
      "text/plain": [
       "(0.0, 1e-08)"
      ]
     },
     "execution_count": 5,
     "metadata": {},
     "output_type": "execute_result"
    },
    {
     "data": {
      "image/png": "[encoded data removed]",
      "text/plain": [
       "<Figure size 432x288 with 1 Axes>"
      ]
     },
     "metadata": {
      "needs_background": "light"
     },
     "output_type": "display_data"
    }
   ],
   "source": [
    "#df.plot(x='E',y='DOS',loglog=True)  #This one is only for magic angle\n",
    "df.plot(x='E',y='DOS')\n",
    "plt.xlim(0,0.00000001)\n",
    "#plt.ylim(0,0.5)"
   ]
  },
  {
   "cell_type": "code",
   "execution_count": 6,
   "id": "7dcb06e5-795d-4981-8874-0d66012c3fff",
   "metadata": {},
   "outputs": [
    {
     "data": {
      "text/html": [
       "<div>\n",
       "<style scoped>\n",
       "    .dataframe tbody tr th:only-of-type {\n",
       "        vertical-align: middle;\n",
       "    }\n",
       "\n",
       "    .dataframe tbody tr th {\n",
       "        vertical-align: top;\n",
       "    }\n",
       "\n",
       "    .dataframe thead th {\n",
       "        text-align: right;\n",
       "    }\n",
       "</style>\n",
       "<table border=\"1\" class=\"dataframe\">\n",
       "  <thead>\n",
       "    <tr style=\"text-align: right;\">\n",
       "      <th></th>\n",
       "      <th>E</th>\n",
       "      <th>DOS</th>\n",
       "    </tr>\n",
       "  </thead>\n",
       "  <tbody>\n",
       "    <tr>\n",
       "      <th>20000</th>\n",
       "      <td>-4.421497e-18</td>\n",
       "      <td>1.231593e-15</td>\n",
       "    </tr>\n",
       "    <tr>\n",
       "      <th>20001</th>\n",
       "      <td>4.421497e-18</td>\n",
       "      <td>1.231593e-15</td>\n",
       "    </tr>\n",
       "  </tbody>\n",
       "</table>\n",
       "</div>"
      ],
      "text/plain": [
       "                  E           DOS\n",
       "20000 -4.421497e-18  1.231593e-15\n",
       "20001  4.421497e-18  1.231593e-15"
      ]
     },
     "execution_count": 6,
     "metadata": {},
     "output_type": "execute_result"
    }
   ],
   "source": [
    "idxE0 = df.query('E<0.000000000000000001 and E>-0.00000000000000001')['DOS'].idxmin()\n",
    "df.iloc[[idxE0,idxE0+1]]"
   ]
  },
  {
   "cell_type": "code",
   "execution_count": 7,
   "id": "ca1e98d8-15a8-49a4-9838-865772e359d2",
   "metadata": {},
   "outputs": [
    {
     "data": {
      "text/plain": [
       "<matplotlib.lines.Line2D at 0x2cf65cdd910>"
      ]
     },
     "execution_count": 7,
     "metadata": {},
     "output_type": "execute_result"
    },
    {
     "data": {
      "image/png": "[encoded data removed]",
      "text/plain": [
       "<Figure size 432x288 with 1 Axes>"
      ]
     },
     "metadata": {
      "needs_background": "light"
     },
     "output_type": "display_data"
    }
   ],
   "source": [
    "#df.plot(marker='o')\n",
    "df.plot(x='E',y='DOS',marker='o')\n",
    "plt.xlim(0.98*Ev/3,1.02*Ev/3)\n",
    "plt.axvline(Ev/3)"
   ]
  },
  {
   "cell_type": "code",
   "execution_count": 8,
   "id": "4c645db4-0b3a-446d-b6bc-420ec9286dab",
   "metadata": {},
   "outputs": [
    {
     "data": {
      "text/plain": [
       "(array([-15.00746077,  48.4952549 ]),\n",
       " 0.027209134045812648,\n",
       " (array([0.018165  , 0.03728378]), 135, 4))"
      ]
     },
     "execution_count": 8,
     "metadata": {},
     "output_type": "execute_result"
    }
   ],
   "source": [
    "ret"
   ]
  },
  {
   "cell_type": "code",
   "execution_count": 72,
   "id": "764716b9-3a77-4973-93af-bff83f0e5823",
   "metadata": {},
   "outputs": [
    {
     "data": {
      "image/png": "[encoded data removed]",
      "text/plain": [
       "<Figure size 432x288 with 1 Axes>"
      ]
     },
     "metadata": {
      "needs_background": "light"
     },
     "output_type": "display_data"
    }
   ],
   "source": [
    "c = sns.diverging_palette(250, 30, l=65, center=\"dark\", as_cmap=True)\n",
    "#df.plot('E','DOS',c=c(100))\n",
    "df.plot.scatter('E','DOS')\n",
    "ax = plt.gca()\n",
    "ax.set_xlim(0,0.02)\n",
    "ax.set_ylim(0,2.1)\n",
    "ax.axvline(Ev/3,ls='--',c='gray')\n",
    "\n",
    "c = df['E']/0.02 * 256\n"
   ]
  },
  {
   "cell_type": "code",
   "execution_count": 63,
   "id": "bb875249-4091-4140-8a3f-39a00ca56123",
   "metadata": {},
   "outputs": [
    {
     "name": "stdout",
     "output_type": "stream",
     "text": [
      "[0.         0.01010101 0.02020202 0.03030303 0.04040404 0.05050505\n",
      " 0.06060606 0.07070707 0.08080808 0.09090909 0.1010101  0.11111111\n",
      " 0.12121212 0.13131313 0.14141414 0.15151515 0.16161616 0.17171717\n",
      " 0.18181818 0.19191919 0.2020202  0.21212121 0.22222222 0.23232323\n",
      " 0.24242424 0.25252525 0.26262626 0.27272727 0.28282828 0.29292929\n",
      " 0.3030303  0.31313131 0.32323232 0.33333333 0.34343434 0.35353535\n",
      " 0.36363636 0.37373737 0.38383838 0.39393939 0.4040404  0.41414141\n",
      " 0.42424242 0.43434343 0.44444444 0.45454545 0.46464646 0.47474747\n",
      " 0.48484848 0.49494949 0.50505051 0.51515152 0.52525253 0.53535354\n",
      " 0.54545455 0.55555556 0.56565657 0.57575758 0.58585859 0.5959596\n",
      " 0.60606061 0.61616162 0.62626263 0.63636364 0.64646465 0.65656566\n",
      " 0.66666667 0.67676768 0.68686869 0.6969697  0.70707071 0.71717172\n",
      " 0.72727273 0.73737374 0.74747475 0.75757576 0.76767677 0.77777778\n",
      " 0.78787879 0.7979798  0.80808081 0.81818182 0.82828283 0.83838384\n",
      " 0.84848485 0.85858586 0.86868687 0.87878788 0.88888889 0.8989899\n",
      " 0.90909091 0.91919192 0.92929293 0.93939394 0.94949495 0.95959596\n",
      " 0.96969697 0.97979798 0.98989899 1.        ]\n"
     ]
    },
    {
     "data": {
      "image/png": "[encoded data removed]",
      "text/html": [
       "<div style=\"vertical-align: middle;\"><strong>coolwarm</strong> </div><div class=\"cmap\"><img alt=\"coolwarm colormap\" title=\"coolwarm\" style=\"border: 1px solid #555;\" src=\"data:image/png;base64,iVBORw0KGgoAAAANSUhEUgAAAgAAAABACAYAAABsv8+/AAAAF3RFWHRUaXRsZQBjb29sd2FybSBjb2xvcm1hcPHW9i4AAAAddEVYdERlc2NyaXB0aW9uAGNvb2x3YXJtIGNvbG9ybWFw2KgRBwAAADB0RVh0QXV0aG9yAE1hdHBsb3RsaWIgdjMuNC4zLCBodHRwczovL21hdHBsb3RsaWIub3JnCV3z0wAAADJ0RVh0U29mdHdhcmUATWF0cGxvdGxpYiB2My40LjMsIGh0dHBzOi8vbWF0cGxvdGxpYi5vcmcn+2z0AAACIUlEQVR4nO3WO3LbQBBF0QaW5TV40d6XTIwTCCo2MQQYOHrnJKr5NRip7vLr959RVbUsS1VVLetaVVXr+rzu50s7X2fnt+cu+/n5/nF+8Z315buz9/3310fzXvfrfP73nOn8mnzv+f7xfva9/bzPu9w/vnM+b36v3t+72J/fGxfvx739mt1v82tyXv13jPO5x7175y/fm53f3F/7fm333vf7o+2P7cP18371e+P9nOrvR/995/e+59ZkPZ17rN/fO+Zufe75vdr67znfv3o3tnv3Lt/t69HW3+fH/Zc579+/rLc2r82fzevf7/ePv+Pq3uTdf9rfHu/v/5y3e/v+1uc/tud3j8m84/0+72tf/x2frb+e/18BAEEEAAAEEgAAEEgAAEAgAQAAgQQAAAQSAAAQSAAAQCABAACBBAAABBIAABBIAABAIAEAAIEEAAAEEgAAEEgAAEAgAQAAgQQAAAQSAAAQSAAAQCABAACBBAAABBIAABBIAABAIAEAAIEEAAAEEgAAEEgAAEAgAQAAgQQAAAQSAAAQSAAAQCABAACBBAAABBIAABBIAABAIAEAAIEEAAAEEgAAEEgAAEAgAQAAgQQAAAQSAAAQSAAAQCABAACBBAAABBIAABBIAABAIAEAAIEEAAAEEgAAEEgAAEAgAQAAgQQAAAQSAAAQSAAAQCABAACBBAAABBIAABBIAABAIAEAAIEEAAAEEgAAEOgf6GZUalYlbg8AAAAASUVORK5CYII=\"></div><div style=\"vertical-align: middle; max-width: 514px; display: flex; justify-content: space-between;\"><div style=\"float: left;\"><div title=\"#3b4cc0ff\" style=\"display: inline-block; width: 1em; height: 1em; margin: 0; vertical-align: middle; border: 1px solid #555; background-color: #3b4cc0ff;\"></div> under</div><div style=\"margin: 0 auto; display: inline-block;\">bad <div title=\"#00000000\" style=\"display: inline-block; width: 1em; height: 1em; margin: 0; vertical-align: middle; border: 1px solid #555; background-color: #00000000;\"></div></div><div style=\"float: right;\">over <div title=\"#b40426ff\" style=\"display: inline-block; width: 1em; height: 1em; margin: 0; vertical-align: middle; border: 1px solid #555; background-color: #b40426ff;\"></div></div>"
      ],
      "text/plain": [
       "<matplotlib.colors.LinearSegmentedColormap at 0x2cf61dc9820>"
      ]
     },
     "execution_count": 63,
     "metadata": {},
     "output_type": "execute_result"
    },
    {
     "data": {
      "image/png": "[encoded data removed]",
      "text/plain": [
       "<Figure size 432x288 with 1 Axes>"
      ]
     },
     "metadata": {
      "needs_background": "light"
     },
     "output_type": "display_data"
    }
   ],
   "source": [
    "cm = sns.color_palette(\"coolwarm\", as_cmap=True)\n",
    "x = np.linspace(0,10,100)\n",
    "y = np.sin(x)\n",
    "plt.scatter(x,y,c=x/10 * 256,cmap = cm)\n",
    "print((x/10))\n",
    "cm"
   ]
  },
  {
   "cell_type": "code",
   "execution_count": 69,
   "id": "69a237c2-329e-40de-84a3-fafd12484477",
   "metadata": {},
   "outputs": [
    {
     "data": {
      "text/plain": [
       "20001    4.421497e-18\n",
       "20002    4.430340e-18\n",
       "20003    4.439201e-18\n",
       "20004    4.448079e-18\n",
       "20005    4.456976e-18\n",
       "             ...     \n",
       "36886    1.981743e-03\n",
       "36887    1.985707e-03\n",
       "36888    1.989678e-03\n",
       "36889    1.993658e-03\n",
       "36890    1.997645e-03\n",
       "Name: E, Length: 16890, dtype: float64"
      ]
     },
     "execution_count": 69,
     "metadata": {},
     "output_type": "execute_result"
    }
   ],
   "source": [
    "df.query('E<0.002 and E>-0.0000000000000000')['E']"
   ]
  },
  {
   "cell_type": "code",
   "execution_count": 111,
   "id": "bf2689c4-034a-42fb-a7f0-792c09366ca4",
   "metadata": {},
   "outputs": [
    {
     "data": {
      "image/png": "[encoded data removed]",
      "text/plain": [
       "<Figure size 432x288 with 2 Axes>"
      ]
     },
     "metadata": {
      "needs_background": "light"
     },
     "output_type": "display_data"
    }
   ],
   "source": [
    "X = df.query('E<0.02 and E>-0.0000000000000000')['E']\n",
    "Y = df.query('E<0.02 and E>-0.0000000000000000')['DOS']\n",
    "c_array = np.array([xval if xval<Ev/3 else Ev/3 for xval in X ])\n",
    "cscale = 3*c_array/Ev * 1\n",
    "plt.scatter(X,Y, c = cscale,cmap = cm,marker ='.')\n",
    "plt.axvline(Ev/3,ls = '--',c='gray')\n",
    "#plt.clim(0,Ev/3)\n",
    "plt.clim(0,1)\n",
    "plt.ylim(0,1.8)\n",
    "plt.xlim(-0.0002,0.02)\n",
    "plt.xlabel('$\\\\omega$ (Rescaled)')\n",
    "plt.ylabel(r'$\\rho(\\omega)$')\n",
    "plt.title('$\\\\theta = 1.6^\\circ$')\n",
    "cbar = plt.colorbar(ticks=[0,1])\n",
    "cbar.ax.set_yticklabels(['Dirac cone like character','vHS like character'])\n",
    "plt.savefig('FigsPaper/changingcharacter.pdf')"
   ]
  },
  {
   "cell_type": "code",
   "execution_count": null,
   "id": "f6992619-2380-4421-a310-89271af67a78",
   "metadata": {},
   "outputs": [],
   "source": []
  }
 ],
 "metadata": {
  "kernelspec": {
   "display_name": "Python 3 (ipykernel)",
   "language": "python",
   "name": "python3"
  },
  "language_info": {
   "codemirror_mode": {
    "name": "ipython",
    "version": 3
   },
   "file_extension": ".py",
   "mimetype": "text/x-python",
   "name": "python",
   "nbconvert_exporter": "python",
   "pygments_lexer": "ipython3",
   "version": "3.9.7"
  }
 },
 "nbformat": 4,
 "nbformat_minor": 5
}
