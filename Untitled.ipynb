{
 "cells": [
  {
   "cell_type": "code",
   "execution_count": 19,
   "id": "d066fb72-665b-4169-9772-f73e011d62ef",
   "metadata": {},
   "outputs": [],
   "source": [
    "import numpy as np\n",
    "import cmath\n",
    "import matplotlib.pyplot as plt\n",
    "from scipy.signal import find_peaks as fp\n",
    "#from scipy.special import ellipk\n",
    "from mpmath import ellipk\n",
    "import os \n",
    "from mpl_toolkits import mplot3d\n",
    "from scipy.optimize import fmin_cg, fmin_tnc, curve_fit, newton, bisect, fsolve\n",
    "from SourcesTBG import *\n",
    "from MoreSources import *\n",
    "from scipy.misc import derivative as scider\n",
    "import pandas as pd\n",
    "from scipy.linalg import eigh,eig,eigvalsh\n",
    "from functools import partial\n",
    "import seaborn as sns\n",
    "from FeynmanHellman import *\n",
    "from saddlefinder import *\n",
    "import csv\n",
    "from Decorators import *\n",
    "TO_DEGREE = 1.0/0.018326\n",
    "IN_RADIAN = np.pi/180\n",
    "vFpar = 4.31074647887324\n",
    "wpar=0.11\n",
    "BANDS = 8"
   ]
  },
  {
   "cell_type": "code",
   "execution_count": 2,
   "id": "f27a3396-f26b-4ae8-99ad-33dfc0b1c98e",
   "metadata": {},
   "outputs": [],
   "source": [
    "def testfunc(x=2,y=3):\n",
    "    return (x**4 - y**4)"
   ]
  },
  {
   "cell_type": "code",
   "execution_count": 3,
   "id": "94ced957-991d-4a7a-8755-ad78f1ad9abc",
   "metadata": {},
   "outputs": [
    {
     "name": "stdout",
     "output_type": "stream",
     "text": [
      "108.00000009680844\n",
      "108.0\n"
     ]
    },
    {
     "data": {
      "text/plain": [
       "1"
      ]
     },
     "execution_count": 3,
     "metadata": {},
     "output_type": "execute_result"
    }
   ],
   "source": [
    "asx = partial(testfunc, y=6)\n",
    "print(scider(asx,x0=3,dx=1e-3,n=2,order=5))\n",
    "print(derivative(asx,3))\n",
    "asy = partial(testfunc, 1)\n",
    "#print(scider(asy,x0=3,dx=1e-3))\n",
    "asy(0)"
   ]
  },
  {
   "cell_type": "code",
   "execution_count": 4,
   "id": "aee65e8e-f16f-45e8-b81a-9ceed3afc903",
   "metadata": {},
   "outputs": [
    {
     "name": "stdout",
     "output_type": "stream",
     "text": [
      "[4.00667121 0.32639069]\n",
      "[4.00667121 0.32639069]\n",
      "[4.00667121 0.32639069]\n"
     ]
    }
   ],
   "source": [
    "thetai = 0.85 * IN_RADIAN\n",
    "print(FHpdvs(Theta = thetai,kx_fixed = 0.12, ky_fixed = 0.01))\n",
    "print(partial(FHpdvs,  vFpar,  wpar, thetai, ky_fixed = 0.01,symmetric = True)(0.12)) #become now a function of kx\n",
    "print(partial(FHpdvs,  vFpar,  wpar, thetai, 0.12,symmetric = True)(0.01)) #become now a function of ky"
   ]
  },
  {
   "cell_type": "code",
   "execution_count": 5,
   "id": "a31611bc-3b61-45a4-9b25-a15cd19595a4",
   "metadata": {},
   "outputs": [
    {
     "data": {
      "text/plain": [
       "array([[0.+0.j        , 0.+0.j        , 0.+0.j        , 0.+0.j        ,\n",
       "        0.+0.82130751j, 0.+0.j        , 0.-0.82130751j, 0.+0.j        ],\n",
       "       [0.+0.j        , 0.+0.j        , 0.+0.j        , 0.+0.j        ,\n",
       "        0.+0.j        , 0.-0.82130751j, 0.+0.j        , 0.+0.82130751j],\n",
       "       [0.+0.j        , 0.+0.j        , 0.+1.33338404j, 0.+0.j        ,\n",
       "        0.+0.j        , 0.+0.j        , 0.+0.j        , 0.+0.j        ],\n",
       "       [0.+0.j        , 0.+0.j        , 0.+0.j        , 0.-1.33338404j,\n",
       "        0.+0.j        , 0.+0.j        , 0.+0.j        , 0.+0.j        ],\n",
       "       [0.+0.82130751j, 0.+0.j        , 0.+0.j        , 0.+0.j        ,\n",
       "        0.-0.66669202j, 0.+0.j        , 0.+0.j        , 0.+0.j        ],\n",
       "       [0.+0.j        , 0.-0.82130751j, 0.+0.j        , 0.+0.j        ,\n",
       "        0.+0.j        , 0.+0.66669202j, 0.+0.j        , 0.+0.j        ],\n",
       "       [0.-0.82130751j, 0.+0.j        , 0.+0.j        , 0.+0.j        ,\n",
       "        0.+0.j        , 0.+0.j        , 0.-0.66669202j, 0.+0.j        ],\n",
       "       [0.+0.j        , 0.+0.82130751j, 0.+0.j        , 0.+0.j        ,\n",
       "        0.+0.j        , 0.+0.j        , 0.+0.j        , 0.+0.66669202j]])"
      ]
     },
     "execution_count": 5,
     "metadata": {},
     "output_type": "execute_result"
    }
   ],
   "source": [
    "ham = return_hamiltonian_Twisted_graphene_single_point(vF = vFpar, w = wpar, Theta = thetai)\n",
    "pdvxmat = generate_pdvx_Twisted_graphene_single_point(vF = vFpar, w = wpar, Theta = thetai)\n",
    "ham@pdvxmat - pdvxmat@ham "
   ]
  },
  {
   "cell_type": "code",
   "execution_count": 6,
   "id": "0305e791-8f57-4ba5-814f-47bfa723b2a9",
   "metadata": {},
   "outputs": [],
   "source": [
    "pdvatfixedky = partial(FHpdvs,  vFpar,  wpar, thetai, ky_fixed = 0.01,symmetric = True)\n",
    "pdvatfixedkx = partial(FHpdvs,  vFpar,  wpar, thetai, 0.12,symmetric = True)"
   ]
  },
  {
   "cell_type": "code",
   "execution_count": 7,
   "id": "453fc6f0-6e9d-4e96-881b-a4c535cb7958",
   "metadata": {},
   "outputs": [
    {
     "data": {
      "text/plain": [
       "array([3, 3, 7])"
      ]
     },
     "execution_count": 7,
     "metadata": {},
     "output_type": "execute_result"
    }
   ],
   "source": [
    "l1 = [1,2,3]\n",
    "l2 = [2,1,4]\n",
    "np.array(l1) + np.array(l2)"
   ]
  },
  {
   "cell_type": "code",
   "execution_count": 8,
   "id": "cac59a0a-73cb-4d62-ae51-a99bf1909e8d",
   "metadata": {},
   "outputs": [
    {
     "name": "stdout",
     "output_type": "stream",
     "text": [
      "[1, 2, 2, 3]\n",
      "[3 5]\n"
     ]
    }
   ],
   "source": [
    "def my_decorator(f,*args,**kwargs):\n",
    "    def wrapper(*args,**kwargs):\n",
    "        res = f(*args,**kwargs)\n",
    "        return np.array(res)\n",
    "    return wrapper\n",
    "\n",
    "def randfunc(num1,num2):\n",
    "    return [num1,num2]\n",
    "\n",
    "print(randfunc(1,2) + randfunc(2,3))\n",
    "decorated = my_decorator(randfunc)\n",
    "print(decorated(1,2) + decorated(2,3))\n"
   ]
  },
  {
   "cell_type": "markdown",
   "id": "7bd88a9e-fc77-4e0b-8a46-de16a2aa6406",
   "metadata": {},
   "source": [
    "### Benchmarking tensor contraction for a rank 2 contravariant tensor\n",
    "##### Note: for a covariant tensor, one has to take the inverse of the jacobian written here"
   ]
  },
  {
   "cell_type": "code",
   "execution_count": 9,
   "id": "909673ad-b836-4333-ad87-a746af133dd8",
   "metadata": {},
   "outputs": [
    {
     "name": "stdout",
     "output_type": "stream",
     "text": [
      "[[ 0.24570559  0.46421603]\n",
      " [-0.28260109  1.3844769 ]] 0.24570558793983077\n"
     ]
    }
   ],
   "source": [
    "theta = np.pi/4\n",
    "A = np.random.rand(2)\n",
    "A = np.array([1,1]) * (1/np.sqrt(2))\n",
    "A = np.random.rand(2,2)\n",
    "#print(A)\n",
    "Jac = np.array([[np.cos(theta),-1*np.sin(theta)],[np.sin(theta),np.cos(theta)]])\n",
    "#Jac = np.random.rand(2,2)\n",
    "Jac\n",
    "#np.tensordot(Jac,A)\n",
    "#np.einsum('ij,j->i',Jac,A)\n",
    "res1 = np.einsum('ik,jk->ij',Jac,np.einsum('ij,jk->ik',Jac,A))\n",
    "res2 = (np.cos(theta))**2 * A[0,0]  - np.sin(theta)*np.cos(theta)*(A[1,0] + A[0,1]) + (np.sin(theta)**2)*A[1,1] ## T00\n",
    "res3 = np.einsum('ij,kl,jl->ik',Jac,Jac,A)\n",
    "print(res3,res2)"
   ]
  },
  {
   "cell_type": "code",
   "execution_count": 10,
   "id": "b3eca521-7d3d-4546-9bc3-ec2c5c4c6046",
   "metadata": {},
   "outputs": [
    {
     "data": {
      "text/plain": [
       "([array([-1., -4.]), array([-2., -4.]), array([-3., -4.])],\n",
       " [[1, 4], [2, 4], [3, 4]])"
      ]
     },
     "execution_count": 10,
     "metadata": {},
     "output_type": "execute_result"
    }
   ],
   "source": [
    "l1 = [1,2,3]\n",
    "l2 = 4\n",
    "newlist = [[l1val,l2] for l1val in l1]\n",
    "[rot2D(newlistval,np.pi) for newlistval in newlist], newlist\n",
    "#rot2D(newlist,np.pi)"
   ]
  },
  {
   "cell_type": "code",
   "execution_count": 11,
   "id": "ba33017e-5726-4141-8c79-f37bd8eef9e9",
   "metadata": {},
   "outputs": [
    {
     "data": {
      "text/plain": [
       "[<matplotlib.lines.Line2D at 0x1fd6539ea30>,\n",
       " <matplotlib.lines.Line2D at 0x1fd6539ea60>,\n",
       " <matplotlib.lines.Line2D at 0x1fd6539ea90>,\n",
       " <matplotlib.lines.Line2D at 0x1fd6539ebe0>,\n",
       " <matplotlib.lines.Line2D at 0x1fd6539ed00>,\n",
       " <matplotlib.lines.Line2D at 0x1fd6539ee20>,\n",
       " <matplotlib.lines.Line2D at 0x1fd6539ef40>,\n",
       " <matplotlib.lines.Line2D at 0x1fd653b10a0>]"
      ]
     },
     "execution_count": 11,
     "metadata": {},
     "output_type": "execute_result"
    },
    {
     "data": {
      "image/png": "[encoded data removed]",
      "text/plain": [
       "<Figure size 432x288 with 1 Axes>"
      ]
     },
     "metadata": {
      "needs_background": "light"
     },
     "output_type": "display_data"
    }
   ],
   "source": [
    "kx0 = 0\n",
    "ky = np.linspace(-0.1,0.1,100)\n",
    "Es = [generate_spectrum_Twisted_graphene_single_point(vF=vFpar,w=wpar,Theta = 1.05*IN_RADIAN,kx_fixed = kx0,ky_fixed = kyval,symmetric=True) \n",
    "         for kyval in ky]\n",
    "plt.plot(ky,Es)"
   ]
  },
  {
   "cell_type": "markdown",
   "id": "044bc73c-8b40-4137-8e99-4d87bb493a3a",
   "metadata": {},
   "source": [
    "### Create a rank 3 tensor"
   ]
  },
  {
   "cell_type": "code",
   "execution_count": 18,
   "id": "7d1a7c08-fd2f-4233-86b8-74060a0736c3",
   "metadata": {},
   "outputs": [
    {
     "name": "stdout",
     "output_type": "stream",
     "text": [
      "[[[0. 1.]\n",
      "  [2. 3.]]\n",
      "\n",
      " [[4. 5.]\n",
      "  [6. 7.]]]\n"
     ]
    }
   ],
   "source": [
    "dim = 2 \n",
    "T = np.zeros(8).reshape(2,2,2)\n",
    "#print(T)\n",
    "for i in range(dim):\n",
    "    for j in range(dim): \n",
    "        for k in range(dim):\n",
    "            T[i,j,k] = k + 2*j + 4*i\n",
    "            \n",
    "print(T)"
   ]
  },
  {
   "cell_type": "code",
   "execution_count": 34,
   "id": "8d87358f-fe10-4537-8531-b44082aa1856",
   "metadata": {},
   "outputs": [
    {
     "data": {
      "text/plain": [
       "<matplotlib.legend.Legend at 0x1fd6ac08fd0>"
      ]
     },
     "execution_count": 34,
     "metadata": {},
     "output_type": "execute_result"
    },
    {
     "data": {
      "image/png": "[encoded data removed]",
      "text/plain": [
       "<Figure size 432x288 with 2 Axes>"
      ]
     },
     "metadata": {
      "needs_background": "light"
     },
     "output_type": "display_data"
    }
   ],
   "source": [
    "constky = 0 \n",
    "thetai = 1.0 * IN_RADIAN\n",
    "kxrange = np.linspace(-0.01,0.01,100)\n",
    "pdvxs = [scider(lambda x: generate_spectrum_Twisted_graphene_single_point(vF=vFpar,w=wpar, kx_fixed= x, ky_fixed = constky, Theta = thetai, \n",
    "                                                                         symmetric = True)[4], kxval, dx = 1e-8, n=1) for kxval in kxrange]\n",
    "pdvys = [scider(lambda y: generate_spectrum_Twisted_graphene_single_point(vF=vFpar,w=wpar, kx_fixed= kxval, ky_fixed = y, Theta = thetai, \n",
    "                                                                         symmetric = True)[4], constky, dx = 1e-8, n=1) for kxval in kxrange]\n",
    "FHx = [ret_first_decorator(FHpdvs)(vF=vFpar, w=wpar, Theta=thetai, kx_fixed=kxval, ky_fixed=constky, symmetric=True) for kxval in kxrange]\n",
    "FHy = [ret_second_decorator(FHpdvs)(vF=vFpar, w=wpar, Theta=thetai, kx_fixed=kxval, ky_fixed=constky, symmetric=True) for kxval in kxrange]\n",
    "\n",
    "fig, (ax1,ax2) = plt.subplots(1,2)\n",
    "ax1.plot(kxrange,pdvxs,'--',label = 'finite difference x ')\n",
    "ax1.plot(kxrange,FHx,label = 'FHx')\n",
    "ax1.legend()\n",
    "ax2.plot(kxrange,pdvys,'--',label = 'finite difference y ')\n",
    "ax2.plot(kxrange,FHy,label = 'FHy')\n",
    "ax2.legend()"
   ]
  },
  {
   "cell_type": "code",
   "execution_count": 33,
   "id": "19566f9a-1fe1-4148-8c3b-92f793168ad4",
   "metadata": {},
   "outputs": [
    {
     "data": {
      "text/plain": [
       "<matplotlib.legend.Legend at 0x1fd6aabb310>"
      ]
     },
     "execution_count": 33,
     "metadata": {},
     "output_type": "execute_result"
    },
    {
     "data": {
      "image/png": "[encoded data removed]",
      "text/plain": [
       "<Figure size 432x288 with 2 Axes>"
      ]
     },
     "metadata": {
      "needs_background": "light"
     },
     "output_type": "display_data"
    }
   ],
   "source": [
    "constkx = 0 \n",
    "thetai = 1.0 * IN_RADIAN\n",
    "kyrange = np.linspace(-0.01,0.01,100)\n",
    "pdvxs = [scider(lambda x: generate_spectrum_Twisted_graphene_single_point(vF=vFpar,w=wpar, kx_fixed= x, ky_fixed = kyval, Theta = thetai, \n",
    "                                                                         symmetric = True)[4], constkx, dx = 1e-8, n=1) for kyval in kyrange]\n",
    "pdvys = [scider(lambda y: generate_spectrum_Twisted_graphene_single_point(vF=vFpar,w=wpar, kx_fixed= constkx, ky_fixed = y, Theta = thetai, \n",
    "                                                                         symmetric = True)[4], kyval, dx = 1e-8, n=1) for kyval in kyrange]\n",
    "FHx = [ret_first_decorator(FHpdvs)(vF=vFpar, w=wpar, Theta=thetai, kx_fixed=constkx, ky_fixed=kyval, symmetric=True) for kyval in kyrange]\n",
    "FHy = [ret_second_decorator(FHpdvs)(vF=vFpar, w=wpar, Theta=thetai, kx_fixed=constkx, ky_fixed=kyval, symmetric=True) for kyval in kyrange]\n",
    "\n",
    "\n",
    "# AUTOpdvxs = [scider(lambda x: generate_spectrum_Twisted_graphene_single_point(vF=vFpar,w=wpar, kx_fixed= x, ky_fixed = kyval, Theta = thetai, \n",
    "#                                                                          symmetric = True)[4], constkx, dx = 1e-8, n=1) for kyval in kyrange]\n",
    "# AUTOpdvys = [scider(lambda y: generate_spectrum_Twisted_graphene_single_point(vF=vFpar,w=wpar, kx_fixed= constkx, ky_fixed = y, Theta = thetai, \n",
    "#                                                                          symmetric = True)[4], kyval, dx = 1e-8, n=1) for kyval in kyrange]\n",
    "\n",
    "\n",
    "\n",
    "fig, (ax1,ax2) = plt.subplots(1,2)\n",
    "ax1.plot(kxrange,pdvxs,'--',label = 'finite difference x ')\n",
    "ax1.plot(kxrange,FHx,label = 'FHx')\n",
    "ax1.legend()\n",
    "ax2.plot(kxrange,pdvys,'--',label = 'finite difference y ')\n",
    "ax2.plot(kxrange,FHy,label = 'FHy')\n",
    "ax2.legend()"
   ]
  },
  {
   "cell_type": "code",
   "execution_count": 36,
   "id": "bb060fb9-d023-41d7-aeae-073d975f7705",
   "metadata": {},
   "outputs": [],
   "source": [
    "import tensorflow as tf"
   ]
  },
  {
   "cell_type": "code",
   "execution_count": 91,
   "id": "b94a2008-4e4a-4ffc-bf8e-ef700ef3263d",
   "metadata": {},
   "outputs": [],
   "source": [
    "def uselessfunc(x):\n",
    "    return 1j*x**2"
   ]
  },
  {
   "cell_type": "code",
   "execution_count": 88,
   "id": "a1640008-a617-4f06-b71f-89749dc26d05",
   "metadata": {},
   "outputs": [
    {
     "name": "stdout",
     "output_type": "stream",
     "text": [
      "<tf.Variable 'Variable:0' shape=() dtype=float32, numpy=5.0>\n",
      "tf.Tensor(25.0, shape=(), dtype=float32)\n"
     ]
    },
    {
     "ename": "AttributeError",
     "evalue": "'NoneType' object has no attribute 'numpy'",
     "output_type": "error",
     "traceback": [
      "\u001b[1;31m---------------------------------------------------------------------------\u001b[0m",
      "\u001b[1;31mAttributeError\u001b[0m                            Traceback (most recent call last)",
      "\u001b[1;32m~\\AppData\\Local\\Temp/ipykernel_20204/2858140517.py\u001b[0m in \u001b[0;36m<module>\u001b[1;34m\u001b[0m\n\u001b[0;32m      8\u001b[0m     \u001b[0mytf\u001b[0m \u001b[1;33m=\u001b[0m \u001b[0mtf\u001b[0m\u001b[1;33m.\u001b[0m\u001b[0mVariable\u001b[0m\u001b[1;33m(\u001b[0m\u001b[0my\u001b[0m\u001b[1;33m)\u001b[0m\u001b[1;33m\u001b[0m\u001b[1;33m\u001b[0m\u001b[0m\n\u001b[0;32m      9\u001b[0m     \u001b[0mdy_dx\u001b[0m \u001b[1;33m=\u001b[0m \u001b[0mtape\u001b[0m\u001b[1;33m.\u001b[0m\u001b[0mgradient\u001b[0m\u001b[1;33m(\u001b[0m\u001b[0mytf\u001b[0m\u001b[1;33m,\u001b[0m \u001b[0mxtf\u001b[0m\u001b[1;33m)\u001b[0m\u001b[1;33m\u001b[0m\u001b[1;33m\u001b[0m\u001b[0m\n\u001b[1;32m---> 10\u001b[1;33m     \u001b[0mprint\u001b[0m\u001b[1;33m(\u001b[0m\u001b[0mdy_dx\u001b[0m\u001b[1;33m.\u001b[0m\u001b[0mnumpy\u001b[0m\u001b[1;33m(\u001b[0m\u001b[1;33m)\u001b[0m\u001b[1;33m)\u001b[0m\u001b[1;33m\u001b[0m\u001b[1;33m\u001b[0m\u001b[0m\n\u001b[0m",
      "\u001b[1;31mAttributeError\u001b[0m: 'NoneType' object has no attribute 'numpy'"
     ]
    }
   ],
   "source": [
    "x = 5.0\n",
    "xtf = tf.Variable(x)\n",
    "print(xtf)\n",
    "print(xtf**2)\n",
    "with tf.GradientTape() as tape:\n",
    "    #y = x**2\n",
    "    y = uselessfunc(x)\n",
    "    ytf = tf.Variable(y)\n",
    "    dy_dx = tape.gradient(ytf, xtf)\n",
    "    print(dy_dx.numpy())"
   ]
  },
  {
   "cell_type": "code",
   "execution_count": 48,
   "id": "205e05d3-e3e7-4a3c-a191-4bd47a70cbf5",
   "metadata": {},
   "outputs": [],
   "source": [
    "import autograd.numpy as anp\n",
    "from autograd import grad"
   ]
  },
  {
   "cell_type": "code",
   "execution_count": 92,
   "id": "b74292b5-e411-47a6-8b47-7a0b7ef184a3",
   "metadata": {},
   "outputs": [
    {
     "ename": "TypeError",
     "evalue": "Grad only applies to real scalar-output functions. Try jacobian, elementwise_grad or holomorphic_grad.",
     "output_type": "error",
     "traceback": [
      "\u001b[1;31m---------------------------------------------------------------------------\u001b[0m",
      "\u001b[1;31mTypeError\u001b[0m                                 Traceback (most recent call last)",
      "\u001b[1;32m~\\AppData\\Local\\Temp/ipykernel_20204/3591885344.py\u001b[0m in \u001b[0;36m<module>\u001b[1;34m\u001b[0m\n\u001b[0;32m      3\u001b[0m \u001b[0msecond_grad_of_func\u001b[0m \u001b[1;33m=\u001b[0m \u001b[0mgrad\u001b[0m\u001b[1;33m(\u001b[0m\u001b[0mgrad\u001b[0m\u001b[1;33m(\u001b[0m\u001b[0muselessfunc\u001b[0m\u001b[1;33m)\u001b[0m\u001b[1;33m)\u001b[0m\u001b[1;33m\u001b[0m\u001b[1;33m\u001b[0m\u001b[0m\n\u001b[0;32m      4\u001b[0m \u001b[0mthird_grad_of_func\u001b[0m \u001b[1;33m=\u001b[0m \u001b[0mgrad\u001b[0m\u001b[1;33m(\u001b[0m\u001b[0mgrad\u001b[0m\u001b[1;33m(\u001b[0m\u001b[0mgrad\u001b[0m\u001b[1;33m(\u001b[0m\u001b[0muselessfunc\u001b[0m\u001b[1;33m)\u001b[0m\u001b[1;33m)\u001b[0m\u001b[1;33m)\u001b[0m\u001b[1;33m\u001b[0m\u001b[1;33m\u001b[0m\u001b[0m\n\u001b[1;32m----> 5\u001b[1;33m \u001b[0mgrad_of_func\u001b[0m\u001b[1;33m(\u001b[0m\u001b[0mx\u001b[0m\u001b[1;33m)\u001b[0m\u001b[1;33m,\u001b[0m \u001b[0msecond_grad_of_func\u001b[0m\u001b[1;33m(\u001b[0m\u001b[0mx\u001b[0m\u001b[1;33m)\u001b[0m\u001b[1;33m,\u001b[0m \u001b[0mthird_grad_of_func\u001b[0m\u001b[1;33m(\u001b[0m\u001b[0mx\u001b[0m\u001b[1;33m)\u001b[0m\u001b[1;33m\u001b[0m\u001b[1;33m\u001b[0m\u001b[0m\n\u001b[0m",
      "\u001b[1;32m~\\anaconda3\\lib\\site-packages\\autograd\\wrap_util.py\u001b[0m in \u001b[0;36mnary_f\u001b[1;34m(*args, **kwargs)\u001b[0m\n\u001b[0;32m     18\u001b[0m             \u001b[1;32melse\u001b[0m\u001b[1;33m:\u001b[0m\u001b[1;33m\u001b[0m\u001b[1;33m\u001b[0m\u001b[0m\n\u001b[0;32m     19\u001b[0m                 \u001b[0mx\u001b[0m \u001b[1;33m=\u001b[0m \u001b[0mtuple\u001b[0m\u001b[1;33m(\u001b[0m\u001b[0margs\u001b[0m\u001b[1;33m[\u001b[0m\u001b[0mi\u001b[0m\u001b[1;33m]\u001b[0m \u001b[1;32mfor\u001b[0m \u001b[0mi\u001b[0m \u001b[1;32min\u001b[0m \u001b[0margnum\u001b[0m\u001b[1;33m)\u001b[0m\u001b[1;33m\u001b[0m\u001b[1;33m\u001b[0m\u001b[0m\n\u001b[1;32m---> 20\u001b[1;33m             \u001b[1;32mreturn\u001b[0m \u001b[0munary_operator\u001b[0m\u001b[1;33m(\u001b[0m\u001b[0munary_f\u001b[0m\u001b[1;33m,\u001b[0m \u001b[0mx\u001b[0m\u001b[1;33m,\u001b[0m \u001b[1;33m*\u001b[0m\u001b[0mnary_op_args\u001b[0m\u001b[1;33m,\u001b[0m \u001b[1;33m**\u001b[0m\u001b[0mnary_op_kwargs\u001b[0m\u001b[1;33m)\u001b[0m\u001b[1;33m\u001b[0m\u001b[1;33m\u001b[0m\u001b[0m\n\u001b[0m\u001b[0;32m     21\u001b[0m         \u001b[1;32mreturn\u001b[0m \u001b[0mnary_f\u001b[0m\u001b[1;33m\u001b[0m\u001b[1;33m\u001b[0m\u001b[0m\n\u001b[0;32m     22\u001b[0m     \u001b[1;32mreturn\u001b[0m \u001b[0mnary_operator\u001b[0m\u001b[1;33m\u001b[0m\u001b[1;33m\u001b[0m\u001b[0m\n",
      "\u001b[1;32m~\\anaconda3\\lib\\site-packages\\autograd\\differential_operators.py\u001b[0m in \u001b[0;36mgrad\u001b[1;34m(fun, x)\u001b[0m\n\u001b[0;32m     25\u001b[0m     \u001b[0mvjp\u001b[0m\u001b[1;33m,\u001b[0m \u001b[0mans\u001b[0m \u001b[1;33m=\u001b[0m \u001b[0m_make_vjp\u001b[0m\u001b[1;33m(\u001b[0m\u001b[0mfun\u001b[0m\u001b[1;33m,\u001b[0m \u001b[0mx\u001b[0m\u001b[1;33m)\u001b[0m\u001b[1;33m\u001b[0m\u001b[1;33m\u001b[0m\u001b[0m\n\u001b[0;32m     26\u001b[0m     \u001b[1;32mif\u001b[0m \u001b[1;32mnot\u001b[0m \u001b[0mvspace\u001b[0m\u001b[1;33m(\u001b[0m\u001b[0mans\u001b[0m\u001b[1;33m)\u001b[0m\u001b[1;33m.\u001b[0m\u001b[0msize\u001b[0m \u001b[1;33m==\u001b[0m \u001b[1;36m1\u001b[0m\u001b[1;33m:\u001b[0m\u001b[1;33m\u001b[0m\u001b[1;33m\u001b[0m\u001b[0m\n\u001b[1;32m---> 27\u001b[1;33m         raise TypeError(\"Grad only applies to real scalar-output functions. \"\n\u001b[0m\u001b[0;32m     28\u001b[0m                         \"Try jacobian, elementwise_grad or holomorphic_grad.\")\n\u001b[0;32m     29\u001b[0m     \u001b[1;32mreturn\u001b[0m \u001b[0mvjp\u001b[0m\u001b[1;33m(\u001b[0m\u001b[0mvspace\u001b[0m\u001b[1;33m(\u001b[0m\u001b[0mans\u001b[0m\u001b[1;33m)\u001b[0m\u001b[1;33m.\u001b[0m\u001b[0mones\u001b[0m\u001b[1;33m(\u001b[0m\u001b[1;33m)\u001b[0m\u001b[1;33m)\u001b[0m\u001b[1;33m\u001b[0m\u001b[1;33m\u001b[0m\u001b[0m\n",
      "\u001b[1;31mTypeError\u001b[0m: Grad only applies to real scalar-output functions. Try jacobian, elementwise_grad or holomorphic_grad."
     ]
    }
   ],
   "source": [
    "x = 1.0\n",
    "grad_of_func = grad(uselessfunc) \n",
    "second_grad_of_func = grad(grad(uselessfunc))\n",
    "third_grad_of_func = grad(grad(grad(uselessfunc)))\n",
    "grad_of_func(x), second_grad_of_func(x), third_grad_of_func(x)"
   ]
  },
  {
   "cell_type": "code",
   "execution_count": 80,
   "id": "c2176f3c-8529-4f21-8c69-b58d63c43831",
   "metadata": {},
   "outputs": [
    {
     "ename": "TypeError",
     "evalue": "must be real number, not ArrayBox",
     "output_type": "error",
     "traceback": [
      "\u001b[1;31m---------------------------------------------------------------------------\u001b[0m",
      "\u001b[1;31mTypeError\u001b[0m                                 Traceback (most recent call last)",
      "\u001b[1;32m~\\AppData\\Local\\Temp/ipykernel_20204/3331724760.py\u001b[0m in \u001b[0;36m<module>\u001b[1;34m\u001b[0m\n\u001b[0;32m     70\u001b[0m AUTOpdvxs = grad(lambda x: JUGAAD_generate_spectrum_Twisted_graphene_single_point(vF=vFpar,w=wpar, kx_fixed= x, ky_fixed = 0.01, Theta = thetai, \n\u001b[0;32m     71\u001b[0m                                                                          symmetric = True)[4])\n\u001b[1;32m---> 72\u001b[1;33m \u001b[0mAUTOpdvxs\u001b[0m\u001b[1;33m(\u001b[0m\u001b[1;36m0.01\u001b[0m\u001b[1;33m)\u001b[0m\u001b[1;33m\u001b[0m\u001b[1;33m\u001b[0m\u001b[0m\n\u001b[0m",
      "\u001b[1;32m~\\anaconda3\\lib\\site-packages\\autograd\\wrap_util.py\u001b[0m in \u001b[0;36mnary_f\u001b[1;34m(*args, **kwargs)\u001b[0m\n\u001b[0;32m     18\u001b[0m             \u001b[1;32melse\u001b[0m\u001b[1;33m:\u001b[0m\u001b[1;33m\u001b[0m\u001b[1;33m\u001b[0m\u001b[0m\n\u001b[0;32m     19\u001b[0m                 \u001b[0mx\u001b[0m \u001b[1;33m=\u001b[0m \u001b[0mtuple\u001b[0m\u001b[1;33m(\u001b[0m\u001b[0margs\u001b[0m\u001b[1;33m[\u001b[0m\u001b[0mi\u001b[0m\u001b[1;33m]\u001b[0m \u001b[1;32mfor\u001b[0m \u001b[0mi\u001b[0m \u001b[1;32min\u001b[0m \u001b[0margnum\u001b[0m\u001b[1;33m)\u001b[0m\u001b[1;33m\u001b[0m\u001b[1;33m\u001b[0m\u001b[0m\n\u001b[1;32m---> 20\u001b[1;33m             \u001b[1;32mreturn\u001b[0m \u001b[0munary_operator\u001b[0m\u001b[1;33m(\u001b[0m\u001b[0munary_f\u001b[0m\u001b[1;33m,\u001b[0m \u001b[0mx\u001b[0m\u001b[1;33m,\u001b[0m \u001b[1;33m*\u001b[0m\u001b[0mnary_op_args\u001b[0m\u001b[1;33m,\u001b[0m \u001b[1;33m**\u001b[0m\u001b[0mnary_op_kwargs\u001b[0m\u001b[1;33m)\u001b[0m\u001b[1;33m\u001b[0m\u001b[1;33m\u001b[0m\u001b[0m\n\u001b[0m\u001b[0;32m     21\u001b[0m         \u001b[1;32mreturn\u001b[0m \u001b[0mnary_f\u001b[0m\u001b[1;33m\u001b[0m\u001b[1;33m\u001b[0m\u001b[0m\n\u001b[0;32m     22\u001b[0m     \u001b[1;32mreturn\u001b[0m \u001b[0mnary_operator\u001b[0m\u001b[1;33m\u001b[0m\u001b[1;33m\u001b[0m\u001b[0m\n",
      "\u001b[1;32m~\\anaconda3\\lib\\site-packages\\autograd\\differential_operators.py\u001b[0m in \u001b[0;36mgrad\u001b[1;34m(fun, x)\u001b[0m\n\u001b[0;32m     23\u001b[0m     \u001b[0marguments\u001b[0m \u001b[1;32mas\u001b[0m\u001b[0;31m \u001b[0m\u001b[0;31m`\u001b[0m\u001b[0mfun\u001b[0m\u001b[0;31m`\u001b[0m\u001b[1;33m,\u001b[0m \u001b[0mbut\u001b[0m \u001b[0mreturns\u001b[0m \u001b[0mthe\u001b[0m \u001b[0mgradient\u001b[0m \u001b[0minstead\u001b[0m\u001b[1;33m.\u001b[0m \u001b[0mThe\u001b[0m \u001b[0mfunction\u001b[0m\u001b[0;31m \u001b[0m\u001b[0;31m`\u001b[0m\u001b[0mfun\u001b[0m\u001b[0;31m`\u001b[0m\u001b[1;33m\u001b[0m\u001b[1;33m\u001b[0m\u001b[0m\n\u001b[0;32m     24\u001b[0m     should be scalar-valued. The gradient has the same type as the argument.\"\"\"\n\u001b[1;32m---> 25\u001b[1;33m     \u001b[0mvjp\u001b[0m\u001b[1;33m,\u001b[0m \u001b[0mans\u001b[0m \u001b[1;33m=\u001b[0m \u001b[0m_make_vjp\u001b[0m\u001b[1;33m(\u001b[0m\u001b[0mfun\u001b[0m\u001b[1;33m,\u001b[0m \u001b[0mx\u001b[0m\u001b[1;33m)\u001b[0m\u001b[1;33m\u001b[0m\u001b[1;33m\u001b[0m\u001b[0m\n\u001b[0m\u001b[0;32m     26\u001b[0m     \u001b[1;32mif\u001b[0m \u001b[1;32mnot\u001b[0m \u001b[0mvspace\u001b[0m\u001b[1;33m(\u001b[0m\u001b[0mans\u001b[0m\u001b[1;33m)\u001b[0m\u001b[1;33m.\u001b[0m\u001b[0msize\u001b[0m \u001b[1;33m==\u001b[0m \u001b[1;36m1\u001b[0m\u001b[1;33m:\u001b[0m\u001b[1;33m\u001b[0m\u001b[1;33m\u001b[0m\u001b[0m\n\u001b[0;32m     27\u001b[0m         raise TypeError(\"Grad only applies to real scalar-output functions. \"\n",
      "\u001b[1;32m~\\anaconda3\\lib\\site-packages\\autograd\\core.py\u001b[0m in \u001b[0;36mmake_vjp\u001b[1;34m(fun, x)\u001b[0m\n\u001b[0;32m      8\u001b[0m \u001b[1;32mdef\u001b[0m \u001b[0mmake_vjp\u001b[0m\u001b[1;33m(\u001b[0m\u001b[0mfun\u001b[0m\u001b[1;33m,\u001b[0m \u001b[0mx\u001b[0m\u001b[1;33m)\u001b[0m\u001b[1;33m:\u001b[0m\u001b[1;33m\u001b[0m\u001b[1;33m\u001b[0m\u001b[0m\n\u001b[0;32m      9\u001b[0m     \u001b[0mstart_node\u001b[0m \u001b[1;33m=\u001b[0m \u001b[0mVJPNode\u001b[0m\u001b[1;33m.\u001b[0m\u001b[0mnew_root\u001b[0m\u001b[1;33m(\u001b[0m\u001b[1;33m)\u001b[0m\u001b[1;33m\u001b[0m\u001b[1;33m\u001b[0m\u001b[0m\n\u001b[1;32m---> 10\u001b[1;33m     \u001b[0mend_value\u001b[0m\u001b[1;33m,\u001b[0m \u001b[0mend_node\u001b[0m \u001b[1;33m=\u001b[0m  \u001b[0mtrace\u001b[0m\u001b[1;33m(\u001b[0m\u001b[0mstart_node\u001b[0m\u001b[1;33m,\u001b[0m \u001b[0mfun\u001b[0m\u001b[1;33m,\u001b[0m \u001b[0mx\u001b[0m\u001b[1;33m)\u001b[0m\u001b[1;33m\u001b[0m\u001b[1;33m\u001b[0m\u001b[0m\n\u001b[0m\u001b[0;32m     11\u001b[0m     \u001b[1;32mif\u001b[0m \u001b[0mend_node\u001b[0m \u001b[1;32mis\u001b[0m \u001b[1;32mNone\u001b[0m\u001b[1;33m:\u001b[0m\u001b[1;33m\u001b[0m\u001b[1;33m\u001b[0m\u001b[0m\n\u001b[0;32m     12\u001b[0m         \u001b[1;32mdef\u001b[0m \u001b[0mvjp\u001b[0m\u001b[1;33m(\u001b[0m\u001b[0mg\u001b[0m\u001b[1;33m)\u001b[0m\u001b[1;33m:\u001b[0m \u001b[1;32mreturn\u001b[0m \u001b[0mvspace\u001b[0m\u001b[1;33m(\u001b[0m\u001b[0mx\u001b[0m\u001b[1;33m)\u001b[0m\u001b[1;33m.\u001b[0m\u001b[0mzeros\u001b[0m\u001b[1;33m(\u001b[0m\u001b[1;33m)\u001b[0m\u001b[1;33m\u001b[0m\u001b[1;33m\u001b[0m\u001b[0m\n",
      "\u001b[1;32m~\\anaconda3\\lib\\site-packages\\autograd\\tracer.py\u001b[0m in \u001b[0;36mtrace\u001b[1;34m(start_node, fun, x)\u001b[0m\n\u001b[0;32m      8\u001b[0m     \u001b[1;32mwith\u001b[0m \u001b[0mtrace_stack\u001b[0m\u001b[1;33m.\u001b[0m\u001b[0mnew_trace\u001b[0m\u001b[1;33m(\u001b[0m\u001b[1;33m)\u001b[0m \u001b[1;32mas\u001b[0m \u001b[0mt\u001b[0m\u001b[1;33m:\u001b[0m\u001b[1;33m\u001b[0m\u001b[1;33m\u001b[0m\u001b[0m\n\u001b[0;32m      9\u001b[0m         \u001b[0mstart_box\u001b[0m \u001b[1;33m=\u001b[0m \u001b[0mnew_box\u001b[0m\u001b[1;33m(\u001b[0m\u001b[0mx\u001b[0m\u001b[1;33m,\u001b[0m \u001b[0mt\u001b[0m\u001b[1;33m,\u001b[0m \u001b[0mstart_node\u001b[0m\u001b[1;33m)\u001b[0m\u001b[1;33m\u001b[0m\u001b[1;33m\u001b[0m\u001b[0m\n\u001b[1;32m---> 10\u001b[1;33m         \u001b[0mend_box\u001b[0m \u001b[1;33m=\u001b[0m \u001b[0mfun\u001b[0m\u001b[1;33m(\u001b[0m\u001b[0mstart_box\u001b[0m\u001b[1;33m)\u001b[0m\u001b[1;33m\u001b[0m\u001b[1;33m\u001b[0m\u001b[0m\n\u001b[0m\u001b[0;32m     11\u001b[0m         \u001b[1;32mif\u001b[0m \u001b[0misbox\u001b[0m\u001b[1;33m(\u001b[0m\u001b[0mend_box\u001b[0m\u001b[1;33m)\u001b[0m \u001b[1;32mand\u001b[0m \u001b[0mend_box\u001b[0m\u001b[1;33m.\u001b[0m\u001b[0m_trace\u001b[0m \u001b[1;33m==\u001b[0m \u001b[0mstart_box\u001b[0m\u001b[1;33m.\u001b[0m\u001b[0m_trace\u001b[0m\u001b[1;33m:\u001b[0m\u001b[1;33m\u001b[0m\u001b[1;33m\u001b[0m\u001b[0m\n\u001b[0;32m     12\u001b[0m             \u001b[1;32mreturn\u001b[0m \u001b[0mend_box\u001b[0m\u001b[1;33m.\u001b[0m\u001b[0m_value\u001b[0m\u001b[1;33m,\u001b[0m \u001b[0mend_box\u001b[0m\u001b[1;33m.\u001b[0m\u001b[0m_node\u001b[0m\u001b[1;33m\u001b[0m\u001b[1;33m\u001b[0m\u001b[0m\n",
      "\u001b[1;32m~\\anaconda3\\lib\\site-packages\\autograd\\wrap_util.py\u001b[0m in \u001b[0;36munary_f\u001b[1;34m(x)\u001b[0m\n\u001b[0;32m     13\u001b[0m                 \u001b[1;32melse\u001b[0m\u001b[1;33m:\u001b[0m\u001b[1;33m\u001b[0m\u001b[1;33m\u001b[0m\u001b[0m\n\u001b[0;32m     14\u001b[0m                     \u001b[0msubargs\u001b[0m \u001b[1;33m=\u001b[0m \u001b[0msubvals\u001b[0m\u001b[1;33m(\u001b[0m\u001b[0margs\u001b[0m\u001b[1;33m,\u001b[0m \u001b[0mzip\u001b[0m\u001b[1;33m(\u001b[0m\u001b[0margnum\u001b[0m\u001b[1;33m,\u001b[0m \u001b[0mx\u001b[0m\u001b[1;33m)\u001b[0m\u001b[1;33m)\u001b[0m\u001b[1;33m\u001b[0m\u001b[1;33m\u001b[0m\u001b[0m\n\u001b[1;32m---> 15\u001b[1;33m                 \u001b[1;32mreturn\u001b[0m \u001b[0mfun\u001b[0m\u001b[1;33m(\u001b[0m\u001b[1;33m*\u001b[0m\u001b[0msubargs\u001b[0m\u001b[1;33m,\u001b[0m \u001b[1;33m**\u001b[0m\u001b[0mkwargs\u001b[0m\u001b[1;33m)\u001b[0m\u001b[1;33m\u001b[0m\u001b[1;33m\u001b[0m\u001b[0m\n\u001b[0m\u001b[0;32m     16\u001b[0m             \u001b[1;32mif\u001b[0m \u001b[0misinstance\u001b[0m\u001b[1;33m(\u001b[0m\u001b[0margnum\u001b[0m\u001b[1;33m,\u001b[0m \u001b[0mint\u001b[0m\u001b[1;33m)\u001b[0m\u001b[1;33m:\u001b[0m\u001b[1;33m\u001b[0m\u001b[1;33m\u001b[0m\u001b[0m\n\u001b[0;32m     17\u001b[0m                 \u001b[0mx\u001b[0m \u001b[1;33m=\u001b[0m \u001b[0margs\u001b[0m\u001b[1;33m[\u001b[0m\u001b[0margnum\u001b[0m\u001b[1;33m]\u001b[0m\u001b[1;33m\u001b[0m\u001b[1;33m\u001b[0m\u001b[0m\n",
      "\u001b[1;32m~\\AppData\\Local\\Temp/ipykernel_20204/3331724760.py\u001b[0m in \u001b[0;36m<lambda>\u001b[1;34m(x)\u001b[0m\n\u001b[0;32m     68\u001b[0m \u001b[1;33m\u001b[0m\u001b[0m\n\u001b[0;32m     69\u001b[0m \u001b[1;33m\u001b[0m\u001b[0m\n\u001b[1;32m---> 70\u001b[1;33m AUTOpdvxs = grad(lambda x: JUGAAD_generate_spectrum_Twisted_graphene_single_point(vF=vFpar,w=wpar, kx_fixed= x, ky_fixed = 0.01, Theta = thetai, \n\u001b[0m\u001b[0;32m     71\u001b[0m                                                                          symmetric = True)[4])\n\u001b[0;32m     72\u001b[0m \u001b[0mAUTOpdvxs\u001b[0m\u001b[1;33m(\u001b[0m\u001b[1;36m0.01\u001b[0m\u001b[1;33m)\u001b[0m\u001b[1;33m\u001b[0m\u001b[1;33m\u001b[0m\u001b[0m\n",
      "\u001b[1;32m~\\AppData\\Local\\Temp/ipykernel_20204/3331724760.py\u001b[0m in \u001b[0;36mJUGAAD_generate_spectrum_Twisted_graphene_single_point\u001b[1;34m(vF, w, Theta, kx_fixed, ky_fixed, symmetric)\u001b[0m\n\u001b[0;32m     13\u001b[0m     \u001b[1;32mif\u001b[0m \u001b[0msymmetric\u001b[0m\u001b[1;33m:\u001b[0m\u001b[1;33m\u001b[0m\u001b[1;33m\u001b[0m\u001b[0m\n\u001b[0;32m     14\u001b[0m         \u001b[1;31m#no phases with theta\u001b[0m\u001b[1;33m\u001b[0m\u001b[1;33m\u001b[0m\u001b[0m\n\u001b[1;32m---> 15\u001b[1;33m         \u001b[0mhamiltonians_TBLG\u001b[0m\u001b[1;33m[\u001b[0m\u001b[1;36m0\u001b[0m\u001b[1;33m,\u001b[0m \u001b[1;36m1\u001b[0m\u001b[1;33m]\u001b[0m \u001b[1;33m=\u001b[0m \u001b[0mvF\u001b[0m\u001b[1;33m*\u001b[0m\u001b[1;33m(\u001b[0m\u001b[0mkx\u001b[0m \u001b[1;33m+\u001b[0m \u001b[1;36m1j\u001b[0m\u001b[1;33m*\u001b[0m\u001b[0mky\u001b[0m\u001b[1;33m)\u001b[0m\u001b[1;33m\u001b[0m\u001b[1;33m\u001b[0m\u001b[0m\n\u001b[0m\u001b[0;32m     16\u001b[0m         \u001b[0mhamiltonians_TBLG\u001b[0m\u001b[1;33m[\u001b[0m\u001b[1;36m1\u001b[0m\u001b[1;33m,\u001b[0m \u001b[1;36m0\u001b[0m\u001b[1;33m]\u001b[0m \u001b[1;33m=\u001b[0m \u001b[0mvF\u001b[0m\u001b[1;33m*\u001b[0m\u001b[1;33m(\u001b[0m\u001b[0mkx\u001b[0m \u001b[1;33m-\u001b[0m \u001b[1;36m1j\u001b[0m\u001b[1;33m*\u001b[0m\u001b[0mky\u001b[0m\u001b[1;33m)\u001b[0m\u001b[1;33m\u001b[0m\u001b[1;33m\u001b[0m\u001b[0m\n\u001b[0;32m     17\u001b[0m         \u001b[0mhamiltonians_TBLG\u001b[0m\u001b[1;33m[\u001b[0m\u001b[1;36m2\u001b[0m\u001b[1;33m,\u001b[0m \u001b[1;36m3\u001b[0m\u001b[1;33m]\u001b[0m \u001b[1;33m=\u001b[0m \u001b[0mvF\u001b[0m\u001b[1;33m*\u001b[0m\u001b[1;33m(\u001b[0m\u001b[0mkx\u001b[0m \u001b[1;33m+\u001b[0m \u001b[1;36m1j\u001b[0m\u001b[1;33m*\u001b[0m\u001b[1;33m(\u001b[0m\u001b[0mky\u001b[0m\u001b[1;33m+\u001b[0m\u001b[0monex\u001b[0m\u001b[1;33m*\u001b[0m\u001b[0mkTheta\u001b[0m\u001b[1;33m)\u001b[0m\u001b[1;33m)\u001b[0m\u001b[1;33m\u001b[0m\u001b[1;33m\u001b[0m\u001b[0m\n",
      "\u001b[1;31mTypeError\u001b[0m: must be real number, not ArrayBox"
     ]
    }
   ],
   "source": [
    "#from JUGAADsources import * \n",
    "\n",
    "def JUGAAD_generate_spectrum_Twisted_graphene_single_point(vF, w, Theta, kx_fixed=0.0, ky_fixed=0.0, symmetric=True):\n",
    "    '''spectrum data for 2D plots'''\n",
    "    kx = kx_fixed\n",
    "    ky = ky_fixed\n",
    "    \n",
    "    kTheta = 8.0 * anp.pi * anp.sin(Theta/2.0) / (3*anp.sqrt(3.0))\n",
    "    onex = 1.0\n",
    "    \n",
    "    hamiltonians_TBLG = anp.zeros((8, 8), dtype=complex)\n",
    "    \n",
    "    if symmetric:\n",
    "        #no phases with theta\n",
    "        hamiltonians_TBLG[0, 1] = vF*(kx + 1j*ky)\n",
    "        hamiltonians_TBLG[1, 0] = vF*(kx - 1j*ky)\n",
    "        hamiltonians_TBLG[2, 3] = vF*(kx + 1j*(ky+onex*kTheta))\n",
    "        hamiltonians_TBLG[3, 2] = vF*(kx - 1j*(ky+onex*kTheta))\n",
    "        hamiltonians_TBLG[4, 5] = vF*(kx-0.5*anp.sqrt(3.0)*onex*kTheta+1j*(ky-0.5*onex*kTheta))\n",
    "        hamiltonians_TBLG[5, 4] = vF*(kx-0.5*anp.sqrt(3.0)*onex*kTheta-1j*(ky-0.5*onex*kTheta))\n",
    "        hamiltonians_TBLG[6, 7] = vF*(kx+0.5*anp.sqrt(3.0)*onex*kTheta+1j*(ky-0.5*onex*kTheta))\n",
    "        hamiltonians_TBLG[7, 6] = vF*(kx+0.5*anp.sqrt(3.0)*onex*kTheta-1j*(ky-0.5*onex*kTheta))\n",
    "    else:    \n",
    "        hamiltonians_TBLG[0, 1] = vF*(kx + 1j*ky)*anp.exp(-1j*Theta/2.0)\n",
    "        hamiltonians_TBLG[1, 0] = vF*(kx - 1j*ky)*anp.exp(1j*Theta/2.0)\n",
    "        hamiltonians_TBLG[2, 3] = vF*(kx + 1j*(ky+onex*kTheta))*anp.exp(-1j*Theta/2.0)\n",
    "        hamiltonians_TBLG[3, 2] = vF*(kx - 1j*(ky+onex*kTheta))*anp.exp(1j*Theta/2.0)\n",
    "        hamiltonians_TBLG[4, 5] = vF*(kx-0.5*anp.sqrt(3.0)*onex*kTheta+1j*(ky-0.5*onex*kTheta))*anp.exp(-1j*Theta/2.0)\n",
    "        hamiltonians_TBLG[5, 4] = vF*(kx-0.5*anp.sqrt(3.0)*onex*kTheta-1j*(ky-0.5*onex*kTheta))*anp.exp(1j*Theta/2.0)\n",
    "        hamiltonians_TBLG[6, 7] = vF*(kx+0.5*anp.sqrt(3.0)*onex*kTheta+1j*(ky-0.5*onex*kTheta))*anp.exp(-1j*Theta/2.0)\n",
    "        hamiltonians_TBLG[7, 6] = vF*(kx+0.5*anp.sqrt(3.0)*onex*kTheta-1j*(ky-0.5*onex*kTheta))*anp.exp(1j*Theta/2.0)\n",
    "    \n",
    "    hamiltonians_TBLG[0, 2] = w*onex\n",
    "    hamiltonians_TBLG[0, 3] = w*onex\n",
    "    hamiltonians_TBLG[1, 2] = w*onex\n",
    "    hamiltonians_TBLG[1, 3] = w*onex\n",
    "    \n",
    "    hamiltonians_TBLG[0, 4] = w*onex\n",
    "    hamiltonians_TBLG[0, 5] = w*(-0.5+1j*anp.sqrt(3.0)/2.0)*onex\n",
    "    hamiltonians_TBLG[1, 4] = w*(-0.5-1j*anp.sqrt(3.0)/2.0)*onex\n",
    "    hamiltonians_TBLG[1, 5] = w*onex\n",
    "    \n",
    "    hamiltonians_TBLG[0, 6] = w*onex\n",
    "    hamiltonians_TBLG[0, 7] = w*(-0.5-1j*anp.sqrt(3.0)/2.0)*onex\n",
    "    hamiltonians_TBLG[1, 6] = w*(-0.5+1j*anp.sqrt(3.0)/2.0)*onex\n",
    "    hamiltonians_TBLG[1, 7] = w*onex\n",
    "    \n",
    "    #vertical blocks are the same\n",
    "    hamiltonians_TBLG[2, 0] = w*onex\n",
    "    hamiltonians_TBLG[3, 0] = w*onex\n",
    "    hamiltonians_TBLG[2, 1] = w*onex\n",
    "    hamiltonians_TBLG[3, 1] = w*onex\n",
    "    \n",
    "    hamiltonians_TBLG[4, 0] = w*onex\n",
    "    hamiltonians_TBLG[4, 1] = w*(-0.5+1j*anp.sqrt(3.0)/2.0)*onex\n",
    "    hamiltonians_TBLG[5, 0] = w*(-0.5-1j*anp.sqrt(3.0)/2.0)*onex\n",
    "    hamiltonians_TBLG[5, 1] = w*onex\n",
    "    \n",
    "    hamiltonians_TBLG[6, 0] = w*onex\n",
    "    hamiltonians_TBLG[6, 1] = w*(-0.5-1j*anp.sqrt(3.0)/2.0)*onex\n",
    "    hamiltonians_TBLG[7, 0] = w*(-0.5+1j*anp.sqrt(3.0)/2.0)*onex\n",
    "    hamiltonians_TBLG[7, 1] = w*onex\n",
    "    \n",
    "    \n",
    "    spectrum_data = anp.linalg.eigvalsh(hamiltonians_TBLG)\n",
    "    \n",
    "    return spectrum_data\n",
    "\n",
    "\n",
    "AUTOpdvxs = grad(lambda x: JUGAAD_generate_spectrum_Twisted_graphene_single_point(vF=vFpar,w=wpar, kx_fixed= x, ky_fixed = 0.01, Theta = thetai, \n",
    "                                                                         symmetric = True)[4])\n",
    "AUTOpdvxs(0.01)"
   ]
  },
  {
   "cell_type": "code",
   "execution_count": null,
   "id": "27593465-163e-43b4-9de8-f57c2b6e90ea",
   "metadata": {},
   "outputs": [],
   "source": []
  }
 ],
 "metadata": {
  "kernelspec": {
   "display_name": "Python 3 (ipykernel)",
   "language": "python",
   "name": "python3"
  },
  "language_info": {
   "codemirror_mode": {
    "name": "ipython",
    "version": 3
   },
   "file_extension": ".py",
   "mimetype": "text/x-python",
   "name": "python",
   "nbconvert_exporter": "python",
   "pygments_lexer": "ipython3",
   "version": "3.9.7"
  }
 },
 "nbformat": 4,
 "nbformat_minor": 5
}
